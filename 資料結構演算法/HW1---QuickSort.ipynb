def quicksort(x):
    left=[]   #定義left這個list
    right=[]  #定義right這個list
    middle=[] #定義middle這個list
    
    if len(x)<=1: #if條件句:如果此list長度小於等於1
        return x  #直接回傳
    else:  #其他
        for i in x:  # for迴圈:i為x內一數
            if i > x[0]:  #如果i大於x的第一個數字
                right.append(i)  #就把數字加到right這個list後面
            elif i < x[0]:  #如果i小於x的第一個數字
                left.append(i)  #就把數字加到left這個list後面
            else:  #其他
                middle.append(i)  #加到middle這個list的後面
    left = quicksort(left)  #把left這個list導入quicksort函數
    right = quicksort(right)  #把right這個list導入quicksort函數
    return left+middle+right  #回傳left、middle、right三個list
    print (quicksort(x))      #印出導入quicksort函數的x
