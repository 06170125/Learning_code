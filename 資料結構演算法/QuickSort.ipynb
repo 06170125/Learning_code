{
 "cells": [
  {
   "cell_type": "code",
   "execution_count": 3,
   "metadata": {},
   "outputs": [],
   "source": [
    "def quicksort(x):\n",
    "    left=[]   #定義left這個list\n",
    "    right=[]  #定義right這個list\n",
    "    middle=[] #定義middle這個list\n",
    "    \n",
    "    if len(x)<=1: #if條件句:如果此list長度小於等於1\n",
    "        return x  #直接回傳\n",
    "    else:  #其他\n",
    "        for i in x:  # for迴圈:i為x內一數\n",
    "            if i > x[0]:  #如果i大於x的第一個數字\n",
    "                right.append(i)  #就把數字加到right這個list後面\n",
    "            elif i < x[0]:  #如果i小於x的第一個數字\n",
    "                left.append(i)  #就把數字加到left這個list後面\n",
    "            else:  #其他\n",
    "                middle.append(i)  #加到middle這個list的後面\n",
    "    left = quicksort(left)  #把left這個list導入quicksort函數\n",
    "    right = quicksort(right)  #把right這個list導入quicksort函數\n",
    "    return left+middle+right  #回傳left、middle、right三個list\n",
    "    print (quicksort(x))      #印出導入quicksort函數的x"
   ]
  },
  {
   "cell_type": "code",
   "execution_count": 4,
   "metadata": {},
   "outputs": [
    {
     "name": "stdout",
     "output_type": "stream",
     "text": [
      "[2, 9, 20, 37, 42, 58, 76, 81, 101]\n"
     ]
    }
   ],
   "source": [
    "x = [37,58,101,42,20,2,9,76,81]\n",
    "print (quicksort(x))"
   ]
  },
  {
   "cell_type": "code",
   "execution_count": null,
   "metadata": {},
   "outputs": [],
   "source": []
  }
 ],
 "metadata": {
  "kernelspec": {
   "display_name": "Python 3",
   "language": "python",
   "name": "python3"
  },
  "language_info": {
   "codemirror_mode": {
    "name": "ipython",
    "version": 3
   },
   "file_extension": ".py",
   "mimetype": "text/x-python",
   "name": "python",
   "nbconvert_exporter": "python",
   "pygments_lexer": "ipython3",
   "version": "3.7.1"
  }
 },
 "nbformat": 4,
 "nbformat_minor": 2
}
