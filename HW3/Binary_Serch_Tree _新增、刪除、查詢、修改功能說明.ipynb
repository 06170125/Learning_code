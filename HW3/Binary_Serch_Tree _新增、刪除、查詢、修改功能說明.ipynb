{
 "cells": [
  {
   "cell_type": "markdown",
   "metadata": {},
   "source": [
    "# Binary Search Tree "
   ]
  },
  {
   "cell_type": "raw",
   "metadata": {},
   "source": [
    "● Binary Search Trees：樹的節點最多只有兩個子節點,在整棵二元樹中的每一個節點都擁有不同值。 \n",
    "    • 根節點（Root）：沒有父節點的節點是根節點。\n",
    "      •右子樹：父節點右邊的樹。\n",
    "      •左子樹：父節點左邊的樹。\n",
    "    • 子節點（Leaf）：父節點下面的節點。"
   ]
  },
  {
   "cell_type": "markdown",
   "metadata": {},
   "source": [
    " "
   ]
  },
  {
   "cell_type": "markdown",
   "metadata": {},
   "source": [
    "# ★ Search 搜尋\n"
   ]
  },
  {
   "cell_type": "markdown",
   "metadata": {},
   "source": [
    "因為右子樹的值一定大於左子樹，所以只需從根節點開始比較，就知道搜尋值是位在右子樹或左子樹，然後再繼續往更下面的左子樹或右子樹進行比較，就可以找出是否擁有指定的節點值。\n",
    "\n",
    "Step.1---先與根節點root進行比較\n",
    "\n",
    "\n",
    "Step.2---如比root大，往右子樹查詢\n",
    "\n",
    "        如比root小，往左子樹查詢\n",
    "\n",
    "\n",
    "Step.3---如果找得到，就回傳此值所在的位置\n",
    "\n",
    "        如果找不到，就回傳False\n",
    "\n"
   ]
  },
  {
   "cell_type": "markdown",
   "metadata": {},
   "source": [
    " "
   ]
  },
  {
   "cell_type": "markdown",
   "metadata": {},
   "source": [
    "# ★ Insert 新增"
   ]
  },
  {
   "cell_type": "markdown",
   "metadata": {},
   "source": [
    "觀念類似於「搜尋」,也就是比較後插入。我們只需從根節點開始比較，如要插入的數大於root，就往右；反之往左，然後繼續比較直到找到字跡應該待的位置為止。\n",
    "\n",
    "Step.1---先與根節點root進行比較\n",
    "\n",
    "Step.2---如比root大，往右子樹比較\n",
    "\n",
    "        如比root小，往左子樹比較\n",
    "        \n",
    "Step.3---如因比root小，所以往左子樹，那就再與左子樹的節點比較，小往左，大往右\n",
    "         \n",
    "        如因比root大，所以往右子樹，那就再與右子樹的節點比較，小往左，大往右\n",
    "        \n",
    "Step.4---一直比較直到沒東西可以比，那便是此要新增的數值該在的地方。"
   ]
  },
  {
   "cell_type": "markdown",
   "metadata": {},
   "source": [
    " "
   ]
  },
  {
   "cell_type": "markdown",
   "metadata": {},
   "source": [
    "# ★Delete 刪除"
   ]
  },
  {
   "cell_type": "markdown",
   "metadata": {},
   "source": [
    "對於一棵樹來說，刪除是較麻煩的事情，因為要設想出不同情況下的不同替換數。\n",
    "\n",
    "●情況一：此節點無任何左、右子樹\n",
    "\n",
    " →解決方法：直接刪除"
   ]
  },
  {
   "cell_type": "markdown",
   "metadata": {},
   "source": [
    "●情況二：此節點僅有左子樹\n",
    " \n",
    " →解決方法：從此節點僅有的左子樹中找出最大的點，然後替換上去"
   ]
  },
  {
   "cell_type": "markdown",
   "metadata": {},
   "source": [
    "●情況三：此節點僅有右子樹\n",
    "\n",
    " →解決方法：從此節點僅有的右子樹中找出最小的點，然後替換上去"
   ]
  },
  {
   "cell_type": "markdown",
   "metadata": {},
   "source": [
    "●情況四：此節點左、右子樹皆有\n",
    "\n",
    "\n",
    "→解決方法：\n",
    "\n",
    "    1.從此節點僅有的左子樹中找出最大的點，然後替換上去\n",
    "    2.從此節點僅有的右子樹中找出最小的點，然後替換上去"
   ]
  },
  {
   "cell_type": "markdown",
   "metadata": {},
   "source": [
    " "
   ]
  },
  {
   "cell_type": "markdown",
   "metadata": {},
   "source": [
    "# ●資料來源：\n"
   ]
  },
  {
   "cell_type": "markdown",
   "metadata": {},
   "source": [
    "<https://en.wikipedia.org/wiki/Binary_search_tree>\n",
    "\n",
    "<https://courses.cs.washington.edu/courses/cse143/11wi/lectures/02-23/20-binary-search-tree.pdf>\n",
    "\n",
    "<https://www.geeksforgeeks.org/deletion-binary-tree/> delete\n",
    "\n",
    "<https://www.youtube.com/watch?v=bmaeYtlO2OE> insert\n",
    "\n",
    "<https://en.wikipedia.org/wiki/Binary_search_tree> modify\n",
    "\n",
    "<https://www.hackerearth.com/zh/practice/data-structures/trees/binary-search-tree/tutorial/> search"
   ]
  },
  {
   "cell_type": "code",
   "execution_count": null,
   "metadata": {},
   "outputs": [],
   "source": []
  }
 ],
 "metadata": {
  "kernelspec": {
   "display_name": "Python 3",
   "language": "python",
   "name": "python3"
  },
  "language_info": {
   "codemirror_mode": {
    "name": "ipython",
    "version": 3
   },
   "file_extension": ".py",
   "mimetype": "text/x-python",
   "name": "python",
   "nbconvert_exporter": "python",
   "pygments_lexer": "ipython3",
   "version": "3.7.1"
  }
 },
 "nbformat": 4,
 "nbformat_minor": 2
}
