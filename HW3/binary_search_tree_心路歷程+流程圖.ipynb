{
 "cells": [
  {
   "cell_type": "markdown",
   "metadata": {},
   "source": [
    "# 測試值"
   ]
  },
  {
   "cell_type": "code",
   "execution_count": 5,
   "metadata": {},
   "outputs": [],
   "source": [
    "Node1=TreeNode(3)\n",
    "Node2=TreeNode(3)\n",
    "Node3=TreeNode(-5)\n",
    "Node4=TreeNode(8)\n",
    "Node5=TreeNode(7)\n",
    "Node6=TreeNode(6)\n",
    "Node7=TreeNode(10)\n",
    "root.left=Node1\n",
    "root.right=Node4\n",
    "Node1.left=Node2\n",
    "Node2.left=Node3\n",
    "Node4.left=Node5\n",
    "Node4.right=Node7\n",
    "Node5.left=Node6"
   ]
  },
  {
   "cell_type": "code",
   "execution_count": 8,
   "metadata": {},
   "outputs": [],
   "source": [
    "class TreeNode(object):\n",
    "    def _init_(self,x):\n",
    "        self.val = x\n",
    "        self.left = None\n",
    "        self.right = None"
   ]
  },
  {
   "cell_type": "markdown",
   "metadata": {},
   "source": [
    "# 新增"
   ]
  },
  {
   "cell_type": "markdown",
   "metadata": {},
   "source": [
    "![Insert 新增](https://github.com/06170125/Learning_code/blob/master/%E8%B3%87%E6%96%99%E7%B5%90%E6%A7%8B%E6%BC%94%E7%AE%97%E6%B3%95/S__4136963.jpg?raw=true)"
   ]
  },
  {
   "cell_type": "code",
   "execution_count": 12,
   "metadata": {},
   "outputs": [],
   "source": [
    "class TreeNode(object):\n",
    "    def __init__(self,x):\n",
    "        self.val = x\n",
    "        self.left = None\n",
    "        self.right = None\n",
    "class Solution(object): #以老師的樹舉例\n",
    "    def insert(self, root, val): # root=3\n",
    "        if val>root.val: #如果新增的數字大於root\n",
    "            return root.val #回傳root的值\n",
    "        else:#如果新增的數字小於等於於root\n",
    "            return val\n",
    "root = TreeNode(8)"
   ]
  },
  {
   "cell_type": "code",
   "execution_count": 13,
   "metadata": {},
   "outputs": [],
   "source": [
    "Node1=TreeNode(3)\n",
    "Node2=TreeNode(3)\n",
    "Node3=TreeNode(-5)\n",
    "Node4=TreeNode(8)\n",
    "Node5=TreeNode(7)\n",
    "Node6=TreeNode(6)\n",
    "Node7=TreeNode(10)\n",
    "root.left=Node1\n",
    "root.right=Node4\n",
    "Node1.left=Node2\n",
    "Node2.left=Node3\n",
    "Node4.left=Node5\n",
    "Node4.right=Node7\n",
    "Node5.left=Node6"
   ]
  },
  {
   "cell_type": "code",
   "execution_count": 14,
   "metadata": {},
   "outputs": [
    {
     "data": {
      "text/plain": [
       "3"
      ]
     },
     "execution_count": 14,
     "metadata": {},
     "output_type": "execute_result"
    }
   ],
   "source": [
    "Solution().insert(root,3) #新增數為3，應小於root"
   ]
  },
  {
   "cell_type": "code",
   "execution_count": 15,
   "metadata": {},
   "outputs": [
    {
     "data": {
      "text/plain": [
       "8"
      ]
     },
     "execution_count": 15,
     "metadata": {},
     "output_type": "execute_result"
    }
   ],
   "source": [
    "Solution().insert(root,10) #新增數為10，應大於root"
   ]
  },
  {
   "cell_type": "code",
   "execution_count": 16,
   "metadata": {},
   "outputs": [
    {
     "data": {
      "text/plain": [
       "8"
      ]
     },
     "execution_count": 16,
     "metadata": {},
     "output_type": "execute_result"
    }
   ],
   "source": [
    "Solution().insert(root,8)#新增數為8，應等於root"
   ]
  },
  {
   "cell_type": "code",
   "execution_count": 17,
   "metadata": {},
   "outputs": [],
   "source": [
    "def __init__(self,x):\n",
    "        self.val = x\n",
    "        self.left = None\n",
    "        self.right = None\n",
    "class Solution(object):\n",
    "    def insert(self, root, val): #root=3\n",
    "        if root!= None: #如果root找得到\n",
    "            while val>root.val: #如果新增的數字大於root\n",
    "                if root.right != None: #如果右子樹存在\n",
    "                    return Solution().insert(root.right,val) #回傳繼續比較\n",
    "                else: #如果右子樹不存在\n",
    "                    return TreeNode(val) #就加在右邊\n",
    "            while val<=root.val: #val<=root往左\n",
    "                if root.left != None: #如果左子樹存在\n",
    "                    return Solution().insert(root.left,val) #回傳繼續比較\n",
    "                else: #左子樹不存在\n",
    "                    return TreeNode(val) #就加在左邊\n",
    "        else: #如果root找不到\n",
    "            return TreeNode(val)\n",
    "            return root"
   ]
  },
  {
   "cell_type": "code",
   "execution_count": 18,
   "metadata": {},
   "outputs": [
    {
     "name": "stdout",
     "output_type": "stream",
     "text": [
      "False\n"
     ]
    }
   ],
   "source": [
    "print(Solution().insert(root,6)==root.left.right)"
   ]
  },
  {
   "cell_type": "markdown",
   "metadata": {},
   "source": [
    ">error的部分因為被VScode修掉我就沒放了!!!\n",
    ">跟著老師的圖加上自己的講解一步一步做，"
   ]
  },
  {
   "cell_type": "markdown",
   "metadata": {},
   "source": [
    "# 查詢"
   ]
  },
  {
   "cell_type": "markdown",
   "metadata": {},
   "source": [
    "![Search 搜尋](https://github.com/06170125/Learning_code/blob/master/%E8%B3%87%E6%96%99%E7%B5%90%E6%A7%8B%E6%BC%94%E7%AE%97%E6%B3%95/S__4136965.jpg?raw=true)"
   ]
  },
  {
   "cell_type": "code",
   "execution_count": 19,
   "metadata": {},
   "outputs": [],
   "source": [
    "Node1=TreeNode(3)\n",
    "Node2=TreeNode(3)\n",
    "Node3=TreeNode(-5)\n",
    "Node4=TreeNode(8)\n",
    "Node5=TreeNode(7)\n",
    "Node6=TreeNode(6)\n",
    "Node7=TreeNode(10)\n",
    "root.left=Node1\n",
    "root.right=Node4\n",
    "Node1.left=Node2\n",
    "Node2.left=Node3\n",
    "Node4.left=Node5\n",
    "Node4.right=Node7\n",
    "Node5.left=Node6"
   ]
  },
  {
   "cell_type": "code",
   "execution_count": 22,
   "metadata": {},
   "outputs": [],
   "source": [
    "def __init__(self,x):\n",
    "        self.val = x\n",
    "        self.left = None\n",
    "        self.right = None\n",
    "class Solution(object):\n",
    "    def search(self,root,target):\n",
    "        while root.val == target: #如果欲查詢值等於root\n",
    "            return root #直接回傳\n",
    "        \n",
    "        while root != target: #如果欲查詢值不等於root\n",
    "            while target <= root.val: #預查值小於等於root\n",
    "                if root.left != None: #左子數存在\n",
    "                    return self.search(root.left,target) #回傳繼續比較\n",
    "                else: #其他\n",
    "                    return None #回傳none\n",
    "                    \n",
    "            while target > root.val: #如預查值大於root\n",
    "                if root.right != None:#右子數存在\n",
    "                    return self.search(root.right,target)#回傳繼續比較\n",
    "                else: #其他\n",
    "                    return None#回傳none"
   ]
  },
  {
   "cell_type": "code",
   "execution_count": 23,
   "metadata": {},
   "outputs": [
    {
     "name": "stdout",
     "output_type": "stream",
     "text": [
      "True\n"
     ]
    }
   ],
   "source": [
    "print(Solution().search(root,10)==root.right.right)"
   ]
  },
  {
   "cell_type": "markdown",
   "metadata": {},
   "source": [
    "# 刪除"
   ]
  },
  {
   "cell_type": "markdown",
   "metadata": {},
   "source": [
    "![Delete](https://github.com/06170125/Learning_code/blob/master/%E8%B3%87%E6%96%99%E7%B5%90%E6%A7%8B%E6%BC%94%E7%AE%97%E6%B3%95/S__4136966.jpg?raw=true)"
   ]
  },
  {
   "cell_type": "code",
   "execution_count": 38,
   "metadata": {},
   "outputs": [],
   "source": [
    "Node1=TreeNode(3)\n",
    "Node2=TreeNode(3)\n",
    "Node3=TreeNode(-5)\n",
    "Node4=TreeNode(8)\n",
    "Node5=TreeNode(7)\n",
    "Node6=TreeNode(6)\n",
    "Node7=TreeNode(10)\n",
    "root.left=Node1\n",
    "root.right=Node4\n",
    "Node1.left=Node2\n",
    "Node2.left=Node3\n",
    "Node4.left=Node5\n",
    "Node4.right=Node7\n",
    "Node5.left=Node6"
   ]
  },
  {
   "cell_type": "markdown",
   "metadata": {},
   "source": [
    "狀況一"
   ]
  },
  {
   "cell_type": "code",
   "execution_count": 44,
   "metadata": {},
   "outputs": [],
   "source": [
    "def __init__(self,x):\n",
    "        self.val = x\n",
    "        self.left = None\n",
    "        self.right = None\n",
    "class Solution(object):\n",
    "    def delete(self,root,target):\n",
    "        while root.val and root == target: #如果欲查刪除值等於root\n",
    "            return root #直接回傳\n",
    "        \n",
    "        while root and root != target:#如果欲刪除值不等於root\n",
    "            root = None\n",
    "            while target <= root.val: #預查值小於等於root\n",
    "                root = root.left\n",
    "            while target > root.val:\n",
    "                root = root.right\n",
    "                \n",
    "        while root == None:\n",
    "            return root\n",
    "        while root.right == None and root.left == None:\n",
    "            root = None\n",
    "            if target<= None.val:\n",
    "                None.left = root\n",
    "            elif target > None.val:\n",
    "                None.right = root\n",
    "            return root"
   ]
  },
  {
   "cell_type": "code",
   "execution_count": 45,
   "metadata": {},
   "outputs": [
    {
     "name": "stdout",
     "output_type": "stream",
     "text": [
      "False\n"
     ]
    }
   ],
   "source": [
    "print(root.val ==5 and root.left == -5 and root.left.left == None and root.left.right == None)"
   ]
  },
  {
   "cell_type": "markdown",
   "metadata": {},
   "source": [
    "狀況二"
   ]
  },
  {
   "cell_type": "code",
   "execution_count": 39,
   "metadata": {},
   "outputs": [],
   "source": [
    "def __init__(self,x):\n",
    "        self.val = x\n",
    "        self.left = None\n",
    "        self.right = None\n",
    "class Solution(object):\n",
    "    def delete(self,root,target):\n",
    "        while root.val and root == target: #如果欲查刪除值等於root\n",
    "            return root #直接回傳\n",
    "        \n",
    "        while root.left != None:\n",
    "            if root.right == None:\n",
    "                if target < None.val:\n",
    "                    None.left = root.left\n",
    "                    return self.delete(root,target)"
   ]
  },
  {
   "cell_type": "code",
   "execution_count": 41,
   "metadata": {},
   "outputs": [
    {
     "name": "stdout",
     "output_type": "stream",
     "text": [
      "False\n"
     ]
    }
   ],
   "source": [
    "print(root.val ==5 and root.left == -5 and root.left.left == None and root.left.right == None)"
   ]
  },
  {
   "cell_type": "markdown",
   "metadata": {},
   "source": [
    "狀況三"
   ]
  },
  {
   "cell_type": "code",
   "execution_count": 40,
   "metadata": {},
   "outputs": [],
   "source": [
    "def __init__(self,x):\n",
    "        self.val = x\n",
    "        self.left = None\n",
    "        self.right = None\n",
    "class Solution(object):\n",
    "    def delete(self,root,target):\n",
    "        while root.val and root == target: #如果欲查刪除值等於root\n",
    "            return root #直接回傳\n",
    "        while root.right != None:\n",
    "            if root.left == None:\n",
    "                if target > None.val:\n",
    "                    None.right = root.right\n",
    "                    return self.delete(root,target)\n",
    "            root = self.min(root.right)\n",
    "            if target >None.val:\n",
    "                None.right = root\n",
    "        return root\n",
    "    def min(self,root):\n",
    "        while root.left:\n",
    "            return self. min(root.right)\n",
    "        while root.right:\n",
    "            return root"
   ]
  },
  {
   "cell_type": "code",
   "execution_count": 43,
   "metadata": {},
   "outputs": [
    {
     "name": "stdout",
     "output_type": "stream",
     "text": [
      "False\n"
     ]
    }
   ],
   "source": [
    "print(root.val ==5 and root.left == -5 and root.left.left == None and root.left.right == None)"
   ]
  },
  {
   "cell_type": "markdown",
   "metadata": {},
   "source": [
    "# 修改"
   ]
  },
  {
   "cell_type": "markdown",
   "metadata": {},
   "source": [
    "![Modify 修改](https://github.com/06170125/Learning_code/blob/master/%E8%B3%87%E6%96%99%E7%B5%90%E6%A7%8B%E6%BC%94%E7%AE%97%E6%B3%95/S__4136967.jpg?raw=true)"
   ]
  },
  {
   "cell_type": "code",
   "execution_count": 39,
   "metadata": {},
   "outputs": [],
   "source": [
    "Node1=TreeNode(3)\n",
    "Node2=TreeNode(3)\n",
    "Node3=TreeNode(-5)\n",
    "Node4=TreeNode(8)\n",
    "Node5=TreeNode(7)\n",
    "Node6=TreeNode(6)\n",
    "Node7=TreeNode(10)\n",
    "root.left=Node1\n",
    "root.right=Node4\n",
    "Node1.left=Node2\n",
    "Node2.left=Node3\n",
    "Node4.left=Node5\n",
    "Node4.right=Node7\n",
    "Node5.left=Node6"
   ]
  },
  {
   "cell_type": "code",
   "execution_count": 46,
   "metadata": {},
   "outputs": [
    {
     "ename": "SyntaxError",
     "evalue": "unexpected EOF while parsing (<ipython-input-46-18c3c1fd02cf>, line 6)",
     "output_type": "error",
     "traceback": [
      "\u001b[1;36m  File \u001b[1;32m\"<ipython-input-46-18c3c1fd02cf>\"\u001b[1;36m, line \u001b[1;32m6\u001b[0m\n\u001b[1;33m    def modify(self,root,target,new_val):\u001b[0m\n\u001b[1;37m                                         ^\u001b[0m\n\u001b[1;31mSyntaxError\u001b[0m\u001b[1;31m:\u001b[0m unexpected EOF while parsing\n"
     ]
    }
   ],
   "source": [
    "def __init__(self,x):\n",
    "        self.val = x\n",
    "        self.left = None\n",
    "        self.right = None\n",
    "class Solution(object):\n",
    "    def modify(self,root,target,new_val):"
   ]
  },
  {
   "cell_type": "markdown",
   "metadata": {},
   "source": [
    "加入刪除 新增"
   ]
  },
  {
   "cell_type": "code",
   "execution_count": 47,
   "metadata": {},
   "outputs": [],
   "source": [
    "def __init__(self,x):\n",
    "        self.val = x\n",
    "        self.left = None\n",
    "        self.right = None\n",
    "class Solution(object):\n",
    "    def modify(self,root,target,new_val):\n",
    "        root = self.delete(root,target)\n",
    "        self.insert(root,new_val)\n",
    "        return root"
   ]
  },
  {
   "cell_type": "code",
   "execution_count": 51,
   "metadata": {},
   "outputs": [
    {
     "ename": "NameError",
     "evalue": "name 'self' is not defined",
     "output_type": "error",
     "traceback": [
      "\u001b[1;31m---------------------------------------------------------------------------\u001b[0m",
      "\u001b[1;31mNameError\u001b[0m                                 Traceback (most recent call last)",
      "\u001b[1;32m<ipython-input-51-14f9aff19a01>\u001b[0m in \u001b[0;36m<module>\u001b[1;34m\u001b[0m\n\u001b[1;32m----> 1\u001b[1;33m \u001b[0mprint\u001b[0m\u001b[1;33m(\u001b[0m\u001b[0mself\u001b[0m\u001b[1;33m.\u001b[0m\u001b[0mmodify\u001b[0m\u001b[1;33m(\u001b[0m\u001b[0mroot\u001b[0m\u001b[1;33m,\u001b[0m\u001b[1;36m7\u001b[0m\u001b[1;33m,\u001b[0m\u001b[1;36m4\u001b[0m\u001b[1;33m)\u001b[0m\u001b[1;33m)\u001b[0m\u001b[1;33m\u001b[0m\u001b[1;33m\u001b[0m\u001b[0m\n\u001b[0m",
      "\u001b[1;31mNameError\u001b[0m: name 'self' is not defined"
     ]
    }
   ],
   "source": [
    "print(Solution().modify(root,7,4))"
   ]
  },
  {
   "cell_type": "markdown",
   "metadata": {},
   "source": [
    "# 參考資料"
   ]
  },
  {
   "cell_type": "markdown",
   "metadata": {},
   "source": [
    "https://en.wikipedia.org/wiki/Binary_search_tree\n",
    "\n",
    "https://web.stanford.edu/class/archive/cs/cs161/cs161.1168/lecture8.pdf？\n",
    "\n",
    "https://courses.cs.washington.edu/courses/cse143/11wi/lectures/02-23/20-binary-search-t？ree.pdf\n",
    "\n",
    "https://www.geeksforgeeks.org/deletion-binary-tree/ delete\n",
    "\n",
    "https://www.youtube.com/watch?v=bmaeYtlO2OE insert\n",
    "\n",
    "https://en.wikipedia.org/wiki/Binary_search_tree modify\n",
    "\n",
    "https://www.hackerearth.com/zh/practice/data-structures/trees/binary-search-tree/tutorial/ search"
   ]
  },
  {
   "cell_type": "code",
   "execution_count": null,
   "metadata": {},
   "outputs": [],
   "source": []
  }
 ],
 "metadata": {
  "kernelspec": {
   "display_name": "Python 3",
   "language": "python",
   "name": "python3"
  },
  "language_info": {
   "codemirror_mode": {
    "name": "ipython",
    "version": 3
   },
   "file_extension": ".py",
   "mimetype": "text/x-python",
   "name": "python",
   "nbconvert_exporter": "python",
   "pygments_lexer": "ipython3",
   "version": "3.7.1"
  }
 },
 "nbformat": 4,
 "nbformat_minor": 2
}
