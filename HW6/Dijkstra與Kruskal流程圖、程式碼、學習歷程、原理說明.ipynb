{
 "cells": [
  {
   "cell_type": "markdown",
   "metadata": {},
   "source": [
    "# DIJASTAR & KRUSTAL"
   ]
  },
  {
   "cell_type": "markdown",
   "metadata": {},
   "source": [
    "------------"
   ]
  },
  {
   "cell_type": "markdown",
   "metadata": {},
   "source": [
    "# ◇DIJASTAR & KRUSTAL原理說明"
   ]
  },
  {
   "cell_type": "markdown",
   "metadata": {},
   "source": [
    "## 『DIJASTAR』"
   ]
  },
  {
   "cell_type": "markdown",
   "metadata": {},
   "source": [
    ">#### 主要內容是指定一個點 (原點) 到其餘各個頂點的最短路徑，也稱作「最短路徑」。\n",
    ">#### STEP.1 至起始點找尋尚未拜訪的相鄰結點\n",
    ">#### STEP.2 加到queue\n",
    ">#### STEP.3 找尋目前未拜訪的最短路徑結點，將此結點設為起始點，並設為已拜訪\n",
    ">#### STEP.4 重複第一步，直到所有結點皆為已拜訪"
   ]
  },
  {
   "cell_type": "markdown",
   "metadata": {},
   "source": [
    "## 『KRUSTAL』"
   ]
  },
  {
   "cell_type": "markdown",
   "metadata": {},
   "source": [
    ">#### 此演算法是一種用來尋找最小生成樹的演算法\n",
    ">#### STEP.1 將每個頂點放入其自身的資料集合中\n",
    ">#### STEP.2 按照權值的升序來選擇邊\n",
    ">#### STEP.3 當選擇每條邊時，判斷定義邊的頂點是否在不同的資料集中\n",
    ">#### STEP.4 如果是，將此邊插入最小生成樹的集合中，同時，將集合中包含每個頂點的聯合體取出\n",
    ">#### STEP.5 如果不是，就移動到下一條邊。重複這個過程直到所有的邊都探查過"
   ]
  },
  {
   "cell_type": "markdown",
   "metadata": {},
   "source": [
    "# ◇DIJASTAR & KRUSTAL流程圖"
   ]
  },
  {
   "cell_type": "markdown",
   "metadata": {},
   "source": [
    "![d](https://github.com/06170125/Learning_code/blob/master/%E8%B3%87%E6%96%99%E7%B5%90%E6%A7%8B%E6%BC%94%E7%AE%97%E6%B3%95/S__10477570.jpg?raw=true)"
   ]
  },
  {
   "cell_type": "markdown",
   "metadata": {},
   "source": [
    "![K](https://github.com/06170125/Learning_code/blob/master/%E8%B3%87%E6%96%99%E7%B5%90%E6%A7%8B%E6%BC%94%E7%AE%97%E6%B3%95/S__10477572.jpg?raw=true)"
   ]
  },
  {
   "cell_type": "markdown",
   "metadata": {},
   "source": [
    "# ◇ Learning學習歷程"
   ]
  },
  {
   "cell_type": "code",
   "execution_count": 25,
   "metadata": {},
   "outputs": [
    {
     "ename": "NameError",
     "evalue": "name 'graph' is not defined",
     "output_type": "error",
     "traceback": [
      "\u001b[1;31m---------------------------------------------------------------------------\u001b[0m",
      "\u001b[1;31mNameError\u001b[0m                                 Traceback (most recent call last)",
      "\u001b[1;32m<ipython-input-25-8eb76763a599>\u001b[0m in \u001b[0;36m<module>\u001b[1;34m\u001b[0m\n\u001b[0;32m      9\u001b[0m \u001b[1;33m\u001b[0m\u001b[0m\n\u001b[0;32m     10\u001b[0m \u001b[1;31m#Class to represent a graph\u001b[0m\u001b[1;33m\u001b[0m\u001b[1;33m\u001b[0m\u001b[1;33m\u001b[0m\u001b[0m\n\u001b[1;32m---> 11\u001b[1;33m \u001b[1;32mclass\u001b[0m \u001b[0mGraph\u001b[0m\u001b[1;33m(\u001b[0m\u001b[1;33m)\u001b[0m\u001b[1;33m:\u001b[0m\u001b[1;33m\u001b[0m\u001b[1;33m\u001b[0m\u001b[0m\n\u001b[0m\u001b[0;32m     12\u001b[0m \u001b[1;33m\u001b[0m\u001b[0m\n\u001b[0;32m     13\u001b[0m     \u001b[1;32mdef\u001b[0m \u001b[0m__init__\u001b[0m\u001b[1;33m(\u001b[0m\u001b[0mself\u001b[0m\u001b[1;33m,\u001b[0m \u001b[0mvertices\u001b[0m\u001b[1;33m)\u001b[0m\u001b[1;33m:\u001b[0m\u001b[1;33m\u001b[0m\u001b[1;33m\u001b[0m\u001b[0m\n",
      "\u001b[1;32m<ipython-input-25-8eb76763a599>\u001b[0m in \u001b[0;36mGraph\u001b[1;34m()\u001b[0m\n\u001b[0;32m     43\u001b[0m         \u001b[1;32mreturn\u001b[0m \u001b[0mstart\u001b[0m\u001b[1;33m,\u001b[0m\u001b[0mdistance\u001b[0m\u001b[1;33m\u001b[0m\u001b[1;33m\u001b[0m\u001b[0m\n\u001b[0;32m     44\u001b[0m \u001b[1;33m\u001b[0m\u001b[0m\n\u001b[1;32m---> 45\u001b[1;33m     \u001b[0mstart\u001b[0m\u001b[1;33m,\u001b[0m\u001b[0mdistance\u001b[0m \u001b[1;33m=\u001b[0m \u001b[0mdijkstra\u001b[0m\u001b[1;33m(\u001b[0m\u001b[0mgraph\u001b[0m\u001b[1;33m,\u001b[0m\u001b[1;34m'A'\u001b[0m\u001b[1;33m)\u001b[0m\u001b[1;33m\u001b[0m\u001b[1;33m\u001b[0m\u001b[0m\n\u001b[0m\u001b[0;32m     46\u001b[0m     \u001b[0mprint\u001b[0m\u001b[1;33m(\u001b[0m\u001b[0mstart\u001b[0m\u001b[1;33m)\u001b[0m\u001b[1;33m\u001b[0m\u001b[1;33m\u001b[0m\u001b[0m\n\u001b[0;32m     47\u001b[0m     \u001b[0mprint\u001b[0m\u001b[1;33m(\u001b[0m\u001b[0mdistance\u001b[0m\u001b[1;33m)\u001b[0m\u001b[1;33m\u001b[0m\u001b[1;33m\u001b[0m\u001b[0m\n",
      "\u001b[1;31mNameError\u001b[0m: name 'graph' is not defined"
     ]
    }
   ],
   "source": [
    "# Python program for Dijkstra's single  \n",
    "# source shortest path algorithm. The program is  \n",
    "# for adjacency matrix representation of the graph \n",
    "# Python program for Kruskal's algorithm to find \n",
    "# Minimum Spanning Tree of a given connected,  \n",
    "# undirected and weighted graph \n",
    "\n",
    "from collections import defaultdict \n",
    "\n",
    "#Class to represent a graph \n",
    "class Graph(): \n",
    "\n",
    "    def __init__(self, vertices): \n",
    "        self.V = vertices \n",
    "        self.graph = [] \n",
    "        self.graph_matrix = [[0 for column in range(vertices)]  \n",
    "                    for row in range(vertices)] \n",
    "    def addEdge(self,u,v,w): \n",
    "        \"\"\"\n",
    "        :type u,v,w: int\n",
    "        :rtype: None\n",
    "        \"\"\"\n",
    "    def dijkstra(graph,s):\n",
    "        queue=[]\n",
    "        heapq.heapush(queue,(0,s))\n",
    "        data=[]\n",
    "        start = {s:None}\n",
    "        distance = {s:0}\n",
    "        \n",
    "        while len(queue)>0:\n",
    "            pair = heapq.heappop(queue)\n",
    "            dist = pair[0]\n",
    "            vertex = pair[1]\n",
    "            data.add(vertex)\n",
    "            \n",
    "            nodes = graph[vertex].keys()\n",
    "            for w in node:\n",
    "                if w not in data:\n",
    "                    if distance + graph[vertext][w] < distance[w]:\n",
    "                        heapq.heappush(queue,distance + graph[vertext][w]),w\n",
    "                        start[w] = vertex\n",
    "                        distsnce = distance + graph[vertext][w]\n",
    "        return start,distance\n",
    "    \n",
    "    start,distance = dijkstra(graph,'A')\n",
    "    print(start)\n",
    "    print(distance)\n",
    "    def Kruskal(self):\n",
    "        \"\"\"\n",
    "        :rtype: dict\n",
    "        \"\"\""
   ]
  },
  {
   "cell_type": "code",
   "execution_count": 2,
   "metadata": {},
   "outputs": [],
   "source": [
    "import heapq"
   ]
  },
  {
   "cell_type": "code",
   "execution_count": 28,
   "metadata": {},
   "outputs": [],
   "source": [
    "from collections import defaultdict "
   ]
  },
  {
   "cell_type": "code",
   "execution_count": 32,
   "metadata": {},
   "outputs": [
    {
     "ename": "TypeError",
     "evalue": "__init__() takes 1 positional argument but 2 were given",
     "output_type": "error",
     "traceback": [
      "\u001b[1;31m---------------------------------------------------------------------------\u001b[0m",
      "\u001b[1;31mTypeError\u001b[0m                                 Traceback (most recent call last)",
      "\u001b[1;32m<ipython-input-32-cdf27b3c2aaa>\u001b[0m in \u001b[0;36m<module>\u001b[1;34m\u001b[0m\n\u001b[1;32m----> 1\u001b[1;33m \u001b[0mg\u001b[0m\u001b[1;33m=\u001b[0m\u001b[0mGraph\u001b[0m\u001b[1;33m(\u001b[0m\u001b[1;36m9\u001b[0m\u001b[1;33m)\u001b[0m\u001b[1;33m\u001b[0m\u001b[1;33m\u001b[0m\u001b[0m\n\u001b[0m\u001b[0;32m      2\u001b[0m g.graph=[[0,4,0,0,0,0,0,8,0],\n\u001b[0;32m      3\u001b[0m          \u001b[1;33m[\u001b[0m\u001b[1;36m4\u001b[0m\u001b[1;33m,\u001b[0m\u001b[1;36m0\u001b[0m\u001b[1;33m,\u001b[0m\u001b[1;36m8\u001b[0m\u001b[1;33m,\u001b[0m\u001b[1;36m0\u001b[0m\u001b[1;33m,\u001b[0m\u001b[1;36m0\u001b[0m\u001b[1;33m,\u001b[0m\u001b[1;36m0\u001b[0m\u001b[1;33m,\u001b[0m\u001b[1;36m0\u001b[0m\u001b[1;33m,\u001b[0m\u001b[1;36m11\u001b[0m\u001b[1;33m,\u001b[0m\u001b[1;36m0\u001b[0m\u001b[1;33m]\u001b[0m\u001b[1;33m,\u001b[0m\u001b[1;33m\u001b[0m\u001b[1;33m\u001b[0m\u001b[0m\n\u001b[0;32m      4\u001b[0m          \u001b[1;33m[\u001b[0m\u001b[1;36m0\u001b[0m\u001b[1;33m,\u001b[0m\u001b[1;36m8\u001b[0m\u001b[1;33m,\u001b[0m\u001b[1;36m0\u001b[0m\u001b[1;33m,\u001b[0m\u001b[1;36m7\u001b[0m\u001b[1;33m,\u001b[0m\u001b[1;36m0\u001b[0m\u001b[1;33m,\u001b[0m\u001b[1;36m4\u001b[0m\u001b[1;33m,\u001b[0m\u001b[1;36m0\u001b[0m\u001b[1;33m,\u001b[0m\u001b[1;36m0\u001b[0m\u001b[1;33m,\u001b[0m\u001b[1;36m2\u001b[0m\u001b[1;33m]\u001b[0m\u001b[1;33m,\u001b[0m\u001b[1;33m\u001b[0m\u001b[1;33m\u001b[0m\u001b[0m\n\u001b[0;32m      5\u001b[0m          \u001b[1;33m[\u001b[0m\u001b[1;36m0\u001b[0m\u001b[1;33m,\u001b[0m\u001b[1;36m0\u001b[0m\u001b[1;33m,\u001b[0m\u001b[1;36m7\u001b[0m\u001b[1;33m,\u001b[0m\u001b[1;36m0\u001b[0m\u001b[1;33m,\u001b[0m\u001b[1;36m9\u001b[0m\u001b[1;33m,\u001b[0m\u001b[1;36m14\u001b[0m\u001b[1;33m,\u001b[0m\u001b[1;36m0\u001b[0m\u001b[1;33m,\u001b[0m\u001b[1;36m0\u001b[0m\u001b[1;33m,\u001b[0m\u001b[1;36m0\u001b[0m\u001b[1;33m]\u001b[0m\u001b[1;33m,\u001b[0m\u001b[1;33m\u001b[0m\u001b[1;33m\u001b[0m\u001b[0m\n",
      "\u001b[1;31mTypeError\u001b[0m: __init__() takes 1 positional argument but 2 were given"
     ]
    }
   ],
   "source": [
    "g=Graph(9)\n",
    "g.graph=[[0,4,0,0,0,0,0,8,0],\n",
    "         [4,0,8,0,0,0,0,11,0],\n",
    "         [0,8,0,7,0,4,0,0,2],\n",
    "         [0,0,7,0,9,14,0,0,0],\n",
    "         [0,0,0,9,0,10,0,0,0],\n",
    "         [0,0,4,14,10,0,2,0,0],\n",
    "         [0,0,0,0,0,2,0,1,6],\n",
    "         [8,11,0,0,0,0,1,0,7],\n",
    "         [0,0,2,0,0,0,6,7,0]\n",
    "        ];"
   ]
  },
  {
   "cell_type": "code",
   "execution_count": 31,
   "metadata": {},
   "outputs": [
    {
     "ename": "NameError",
     "evalue": "name 'graph' is not defined",
     "output_type": "error",
     "traceback": [
      "\u001b[1;31m---------------------------------------------------------------------------\u001b[0m",
      "\u001b[1;31mNameError\u001b[0m                                 Traceback (most recent call last)",
      "\u001b[1;32m<ipython-input-31-e7236013292a>\u001b[0m in \u001b[0;36m<module>\u001b[1;34m\u001b[0m\n\u001b[1;32m----> 1\u001b[1;33m \u001b[1;32mclass\u001b[0m \u001b[0mGraph\u001b[0m\u001b[1;33m:\u001b[0m\u001b[1;33m\u001b[0m\u001b[1;33m\u001b[0m\u001b[0m\n\u001b[0m\u001b[0;32m      2\u001b[0m     \u001b[1;32mdef\u001b[0m \u001b[0m__init__\u001b[0m\u001b[1;33m(\u001b[0m\u001b[0mself\u001b[0m\u001b[1;33m)\u001b[0m\u001b[1;33m:\u001b[0m\u001b[1;33m\u001b[0m\u001b[1;33m\u001b[0m\u001b[0m\n\u001b[0;32m      3\u001b[0m         \u001b[0mself\u001b[0m\u001b[1;33m.\u001b[0m\u001b[0mgraph\u001b[0m\u001b[1;33m=\u001b[0m\u001b[0mdefaultdict\u001b[0m\u001b[1;33m(\u001b[0m\u001b[0mlist\u001b[0m\u001b[1;33m)\u001b[0m\u001b[1;33m\u001b[0m\u001b[1;33m\u001b[0m\u001b[0m\n\u001b[0;32m      4\u001b[0m \u001b[1;33m\u001b[0m\u001b[0m\n\u001b[0;32m      5\u001b[0m     \u001b[1;32mdef\u001b[0m \u001b[0maddEdge\u001b[0m\u001b[1;33m(\u001b[0m\u001b[0mself\u001b[0m\u001b[1;33m,\u001b[0m\u001b[0mu\u001b[0m\u001b[1;33m,\u001b[0m\u001b[0mv\u001b[0m\u001b[1;33m)\u001b[0m\u001b[1;33m:\u001b[0m\u001b[1;33m\u001b[0m\u001b[1;33m\u001b[0m\u001b[0m\n",
      "\u001b[1;32m<ipython-input-31-e7236013292a>\u001b[0m in \u001b[0;36mGraph\u001b[1;34m()\u001b[0m\n\u001b[0;32m     28\u001b[0m         \u001b[1;32mreturn\u001b[0m \u001b[0mstart\u001b[0m\u001b[1;33m,\u001b[0m\u001b[0mdistance\u001b[0m\u001b[1;33m\u001b[0m\u001b[1;33m\u001b[0m\u001b[0m\n\u001b[0;32m     29\u001b[0m \u001b[1;33m\u001b[0m\u001b[0m\n\u001b[1;32m---> 30\u001b[1;33m     \u001b[0mstart\u001b[0m\u001b[1;33m,\u001b[0m\u001b[0mdistance\u001b[0m \u001b[1;33m=\u001b[0m \u001b[0mdijkstra\u001b[0m\u001b[1;33m(\u001b[0m\u001b[0mgraph\u001b[0m\u001b[1;33m,\u001b[0m\u001b[1;34m'A'\u001b[0m\u001b[1;33m)\u001b[0m\u001b[1;33m\u001b[0m\u001b[1;33m\u001b[0m\u001b[0m\n\u001b[0m\u001b[0;32m     31\u001b[0m     \u001b[0mprint\u001b[0m\u001b[1;33m(\u001b[0m\u001b[0mstart\u001b[0m\u001b[1;33m)\u001b[0m\u001b[1;33m\u001b[0m\u001b[1;33m\u001b[0m\u001b[0m\n\u001b[0;32m     32\u001b[0m     \u001b[0mprint\u001b[0m\u001b[1;33m(\u001b[0m\u001b[0mdistance\u001b[0m\u001b[1;33m)\u001b[0m\u001b[1;33m\u001b[0m\u001b[1;33m\u001b[0m\u001b[0m\n",
      "\u001b[1;31mNameError\u001b[0m: name 'graph' is not defined"
     ]
    }
   ],
   "source": [
    "class Graph:\n",
    "    def __init__(self):\n",
    "        self.graph=defaultdict(list)\n",
    "        \n",
    "    def addEdge(self,u,v):\n",
    "        self.graph[u].append(v)\n",
    "        \n",
    "    def dijkstra(graph,s):\n",
    "        queue=[]\n",
    "        heapq.heapush(queue,(0,s))\n",
    "        data=[]\n",
    "        start = {s:None}\n",
    "        distance = {s:0}\n",
    "        \n",
    "        while len(queue)>0:\n",
    "            pair = heapq.heappop(queue)\n",
    "            dist = pair[0]\n",
    "            vertex = pair[1]\n",
    "            data.add(vertex)\n",
    "            \n",
    "            nodes = graph[vertex].keys()\n",
    "            for w in node:\n",
    "                if w not in data:\n",
    "                    if distance + graph[vertext][w] < distance[w]:\n",
    "                        heapq.heappush(queue,distance + graph[vertext][w]),w\n",
    "                        start[w] = vertex\n",
    "                        distsnce = distance + graph[vertext][w]\n",
    "        return start,distance\n",
    "    \n",
    "    start,distance = dijkstra(graph,'A')\n",
    "    print(start)\n",
    "    print(distance)"
   ]
  },
  {
   "cell_type": "code",
   "execution_count": 37,
   "metadata": {},
   "outputs": [],
   "source": [
    "graph = {\n",
    "    'A':['B','C'],\n",
    "    'B':['A'],\n",
    "    'C':['A','B','D','E'],\n",
    "    'D':['B','C','E','F'],\n",
    "    'E':['C','D'],\n",
    "    'F':['D']\n",
    "}"
   ]
  },
  {
   "cell_type": "code",
   "execution_count": 42,
   "metadata": {},
   "outputs": [
    {
     "name": "stdout",
     "output_type": "stream",
     "text": [
      "B\n",
      "C\n",
      "E\n"
     ]
    }
   ],
   "source": [
    "def BFS(graph,s):\n",
    "    queue = []\n",
    "    queue.append(s)\n",
    "    seen = set()\n",
    "    seen.add(s)\n",
    "    parent = {s:None}\n",
    "    \n",
    "    while (len(queue)>0):\n",
    "        vertex = queue.pop(0)\n",
    "        nodes = graph[vertex]\n",
    "        for w in nodes:\n",
    "            if w not in seen:\n",
    "                queue.append(w)\n",
    "                seen.add(w)\n",
    "                parent[w] = vertex\n",
    "\n",
    "    return parent\n",
    "parent = BFS(graph,'E')\n",
    "v = 'B'\n",
    "while v != None:\n",
    "    print(v)\n",
    "    v = parent[v]"
   ]
  },
  {
   "cell_type": "code",
   "execution_count": 48,
   "metadata": {},
   "outputs": [],
   "source": [
    "graph = {\n",
    "    'A':{'B':5,'C':1},\n",
    "    'B':{'A':5,'C':2,'D':1},\n",
    "    'C':{'A':1,'B':2,'D':4,'E':8},\n",
    "    'D':{'B':1,'C':4,'E':3,'F':6},\n",
    "    'E':{'C':8,'D':3},\n",
    "    'F':{'D':6}\n",
    "}"
   ]
  },
  {
   "cell_type": "code",
   "execution_count": 49,
   "metadata": {},
   "outputs": [
    {
     "data": {
      "text/plain": [
       "{'B': 5, 'C': 1}"
      ]
     },
     "execution_count": 49,
     "metadata": {},
     "output_type": "execute_result"
    }
   ],
   "source": [
    "graph['A']"
   ]
  },
  {
   "cell_type": "code",
   "execution_count": 50,
   "metadata": {},
   "outputs": [
    {
     "data": {
      "text/plain": [
       "dict_keys(['B', 'C'])"
      ]
     },
     "execution_count": 50,
     "metadata": {},
     "output_type": "execute_result"
    }
   ],
   "source": [
    "graph['A'].keys()"
   ]
  },
  {
   "cell_type": "code",
   "execution_count": 51,
   "metadata": {},
   "outputs": [
    {
     "data": {
      "text/plain": [
       "5"
      ]
     },
     "execution_count": 51,
     "metadata": {},
     "output_type": "execute_result"
    }
   ],
   "source": [
    "graph['A']['B']"
   ]
  },
  {
   "cell_type": "code",
   "execution_count": 10,
   "metadata": {},
   "outputs": [
    {
     "ename": "NameError",
     "evalue": "name 'Graph' is not defined",
     "output_type": "error",
     "traceback": [
      "\u001b[1;31m---------------------------------------------------------------------------\u001b[0m",
      "\u001b[1;31mNameError\u001b[0m                                 Traceback (most recent call last)",
      "\u001b[1;32m<ipython-input-10-cdf27b3c2aaa>\u001b[0m in \u001b[0;36m<module>\u001b[1;34m\u001b[0m\n\u001b[1;32m----> 1\u001b[1;33m \u001b[0mg\u001b[0m\u001b[1;33m=\u001b[0m\u001b[0mGraph\u001b[0m\u001b[1;33m(\u001b[0m\u001b[1;36m9\u001b[0m\u001b[1;33m)\u001b[0m\u001b[1;33m\u001b[0m\u001b[1;33m\u001b[0m\u001b[0m\n\u001b[0m\u001b[0;32m      2\u001b[0m g.graph=[[0,4,0,0,0,0,0,8,0],\n\u001b[0;32m      3\u001b[0m          \u001b[1;33m[\u001b[0m\u001b[1;36m4\u001b[0m\u001b[1;33m,\u001b[0m\u001b[1;36m0\u001b[0m\u001b[1;33m,\u001b[0m\u001b[1;36m8\u001b[0m\u001b[1;33m,\u001b[0m\u001b[1;36m0\u001b[0m\u001b[1;33m,\u001b[0m\u001b[1;36m0\u001b[0m\u001b[1;33m,\u001b[0m\u001b[1;36m0\u001b[0m\u001b[1;33m,\u001b[0m\u001b[1;36m0\u001b[0m\u001b[1;33m,\u001b[0m\u001b[1;36m11\u001b[0m\u001b[1;33m,\u001b[0m\u001b[1;36m0\u001b[0m\u001b[1;33m]\u001b[0m\u001b[1;33m,\u001b[0m\u001b[1;33m\u001b[0m\u001b[1;33m\u001b[0m\u001b[0m\n\u001b[0;32m      4\u001b[0m          \u001b[1;33m[\u001b[0m\u001b[1;36m0\u001b[0m\u001b[1;33m,\u001b[0m\u001b[1;36m8\u001b[0m\u001b[1;33m,\u001b[0m\u001b[1;36m0\u001b[0m\u001b[1;33m,\u001b[0m\u001b[1;36m7\u001b[0m\u001b[1;33m,\u001b[0m\u001b[1;36m0\u001b[0m\u001b[1;33m,\u001b[0m\u001b[1;36m4\u001b[0m\u001b[1;33m,\u001b[0m\u001b[1;36m0\u001b[0m\u001b[1;33m,\u001b[0m\u001b[1;36m0\u001b[0m\u001b[1;33m,\u001b[0m\u001b[1;36m2\u001b[0m\u001b[1;33m]\u001b[0m\u001b[1;33m,\u001b[0m\u001b[1;33m\u001b[0m\u001b[1;33m\u001b[0m\u001b[0m\n\u001b[0;32m      5\u001b[0m          \u001b[1;33m[\u001b[0m\u001b[1;36m0\u001b[0m\u001b[1;33m,\u001b[0m\u001b[1;36m0\u001b[0m\u001b[1;33m,\u001b[0m\u001b[1;36m7\u001b[0m\u001b[1;33m,\u001b[0m\u001b[1;36m0\u001b[0m\u001b[1;33m,\u001b[0m\u001b[1;36m9\u001b[0m\u001b[1;33m,\u001b[0m\u001b[1;36m14\u001b[0m\u001b[1;33m,\u001b[0m\u001b[1;36m0\u001b[0m\u001b[1;33m,\u001b[0m\u001b[1;36m0\u001b[0m\u001b[1;33m,\u001b[0m\u001b[1;36m0\u001b[0m\u001b[1;33m]\u001b[0m\u001b[1;33m,\u001b[0m\u001b[1;33m\u001b[0m\u001b[1;33m\u001b[0m\u001b[0m\n",
      "\u001b[1;31mNameError\u001b[0m: name 'Graph' is not defined"
     ]
    }
   ],
   "source": [
    "g=Graph(9)\n",
    "g.graph=[[0,4,0,0,0,0,0,8,0],\n",
    "         [4,0,8,0,0,0,0,11,0],\n",
    "         [0,8,0,7,0,4,0,0,2],\n",
    "         [0,0,7,0,9,14,0,0,0],\n",
    "         [0,0,0,9,0,10,0,0,0],\n",
    "         [0,0,4,14,10,0,2,0,0],\n",
    "         [0,0,0,0,0,2,0,1,6],\n",
    "         [8,11,0,0,0,0,1,0,7],\n",
    "         [0,0,2,0,0,0,6,7,0]\n",
    "        ];"
   ]
  },
  {
   "cell_type": "code",
   "execution_count": 7,
   "metadata": {},
   "outputs": [
    {
     "ename": "TypeError",
     "evalue": "object of type 'type' has no len()",
     "output_type": "error",
     "traceback": [
      "\u001b[1;31m---------------------------------------------------------------------------\u001b[0m",
      "\u001b[1;31mTypeError\u001b[0m                                 Traceback (most recent call last)",
      "\u001b[1;32m<ipython-input-7-796aee694b24>\u001b[0m in \u001b[0;36m<module>\u001b[1;34m\u001b[0m\n\u001b[1;32m----> 1\u001b[1;33m \u001b[0mprint\u001b[0m\u001b[1;33m(\u001b[0m\u001b[0mlen\u001b[0m\u001b[1;33m(\u001b[0m\u001b[0mGraph\u001b[0m\u001b[1;33m)\u001b[0m\u001b[1;33m)\u001b[0m\u001b[1;33m\u001b[0m\u001b[1;33m\u001b[0m\u001b[0m\n\u001b[0m",
      "\u001b[1;31mTypeError\u001b[0m: object of type 'type' has no len()"
     ]
    }
   ],
   "source": [
    "print(len(Graph))"
   ]
  },
  {
   "cell_type": "code",
   "execution_count": 31,
   "metadata": {},
   "outputs": [],
   "source": [
    "import heapq"
   ]
  },
  {
   "cell_type": "code",
   "execution_count": 32,
   "metadata": {},
   "outputs": [],
   "source": [
    "import math"
   ]
  },
  {
   "cell_type": "code",
   "execution_count": 33,
   "metadata": {},
   "outputs": [],
   "source": [
    "graph = {\n",
    "    'A':{'B':5,'C':1},\n",
    "    'B':{'A':5,'C':2,'D':1},\n",
    "    'C':{'A':1,'B':2,'D':4,'E':8},\n",
    "    'D':{'B':1,'C':4,'E':3,'F':6},\n",
    "    'E':{'C':8,'D':3},\n",
    "    'F':{'D':6}\n",
    "}"
   ]
  },
  {
   "cell_type": "code",
   "execution_count": 34,
   "metadata": {},
   "outputs": [],
   "source": [
    "\n",
    "def find_distance(graph,s):\n",
    "    distance = {s:0}\n",
    "    for vertex in graph:\n",
    "        if vertex != s:\n",
    "            distance[vertex] = math.inf\n",
    "    return distance\n",
    "\n",
    "def dijkstra(graph,s):\n",
    "    queue = []\n",
    "    heapq.heappush(queue,(0,s))\n",
    "    data = set()\n",
    "    past = {s:0}\n",
    "    distance = find_distance(graph,s)\n",
    "\n",
    "    while (len(queue)>0):\n",
    "        pair = heapq.heappop(queue)\n",
    "        dist = pair[0]\n",
    "        vertex = pair[1]\n",
    "        data.add(vertex)\n",
    "\n",
    "        nodes = graph[vertex].keys()\n",
    "        for w in nodes:\n",
    "            if w not in data:\n",
    "                if dist + graph[vertex][w] < distance[w]:\n",
    "                    heapq.heappush(queue,(dist + graph[vertex][w],w))\n",
    "                    past[w] = vertex\n",
    "                    distance[w] = dist + graph[vertex][w]\n",
    "\n",
    "    return past,distance\n",
    "\n",
    "\n",
    "#past,distance = dijkstra(graph,'A')\n",
    "#print ('Dijkstra',distance)"
   ]
  },
  {
   "cell_type": "code",
   "execution_count": 14,
   "metadata": {},
   "outputs": [],
   "source": [
    "g=Graph(9)\n",
    "g.graph=[[0,4,0,0,0,0,0,8,0],\n",
    "         [4,0,8,0,0,0,0,11,0],\n",
    "         [0,8,0,7,0,4,0,0,2],\n",
    "         [0,0,7,0,9,14,0,0,0],\n",
    "         [0,0,0,9,0,10,0,0,0],\n",
    "         [0,0,4,14,10,0,2,0,0],\n",
    "         [0,0,0,0,0,2,0,1,6],\n",
    "         [8,11,0,0,0,0,1,0,7],\n",
    "         [0,0,2,0,0,0,6,7,0]\n",
    "        ];"
   ]
  },
  {
   "cell_type": "code",
   "execution_count": null,
   "metadata": {},
   "outputs": [],
   "source": [
    "graph = {\n",
    "    '0':{'1':4,'7':8},\n",
    "    '1':{'0':4,'2':8'7':11},\n",
    "    '2':{'1':8,'3':7,'5':4,'8':2},\n",
    "    '3':{'2':7,'4':9,'5':14},\n",
    "    '4':{'3':9,'5':10,'7':2},\n",
    "    '5':{'2':4,'3':14,'4':10,'6':2},\n",
    "    '6':{'5':2,'7':1,'8':6},\n",
    "    '7':{'0':8,'1':11,'6':1,'8':7}\n",
    "    '8':{'2':2,'6':6,'7':7}\n",
    "}"
   ]
  },
  {
   "cell_type": "code",
   "execution_count": null,
   "metadata": {},
   "outputs": [],
   "source": []
  },
  {
   "cell_type": "code",
   "execution_count": 39,
   "metadata": {},
   "outputs": [
    {
     "name": "stdout",
     "output_type": "stream",
     "text": [
      "[(0, '0')]\n",
      "Dijkstra {'0': 0, '1': 4, '2': 12, '3': 19, '4': 21, '5': 11, '6': 9, '7': 8, '8': 14}\n"
     ]
    }
   ],
   "source": [
    "from collections import defaultdict \n",
    "import heapq\n",
    "import math\n",
    "\n",
    "class Graph(): \n",
    "\n",
    "    def __init__(self, vertices): \n",
    "        self.V = vertices \n",
    "        self.graph = [] \n",
    "        self.graph_matrix = [[0 for column in range(vertices)]  \n",
    "                    for row in range(vertices)] \n",
    "        \n",
    "    def addEdge(self,u,v,w): \n",
    "        self.graph.append([w,u,v])\n",
    "        \n",
    "    def find_distance(self,s):\n",
    "        distance = {s:0}\n",
    "        for vertex in Graph:\n",
    "            if vertex != s:\n",
    "                distance[vertex] = math.inf\n",
    "        return distance\n",
    "        \n",
    "    def dijkstra(self,s):\n",
    "        queue = []\n",
    "        heapq.heappush(queue,(0,s))\n",
    "        print(queue)\n",
    "        data = set()\n",
    "        past = {s:0}\n",
    "        distance = find_distance(graph,s)\n",
    "        \n",
    "        while (len(queue)>0):\n",
    "            pair = heapq.heappop(queue)\n",
    "            dist = pair[0]\n",
    "            vertex = pair[1]\n",
    "            data.add(vertex)\n",
    "            nodes = graph[vertex].keys()\n",
    "            \n",
    "            for w in nodes:\n",
    "                if w not in data:\n",
    "                    if dist + graph[vertex][w] < distance[w]:\n",
    "                        heapq.heappush(queue,(dist + graph[vertex][w],w))\n",
    "                        past[w] = vertex\n",
    "                        distance[w] = dist + graph[vertex][w]\n",
    "        return past,distance \n",
    "    \n",
    "    past,distance = dijkstra(graph,'0')\n",
    "    print ('Dijkstra',distance)\n",
    "                        \n",
    "    def Kruskal(self):\n",
    "        \"\"\"\n",
    "        :rtype: dict\n",
    "        \"\"\""
   ]
  },
  {
   "cell_type": "code",
   "execution_count": 38,
   "metadata": {},
   "outputs": [],
   "source": [
    "graph = {\n",
    "    '0':{'1':4,'7':8},\n",
    "    '1':{'0':4,'2':8,'7':11},\n",
    "    '2':{'1':8,'3':7,'5':4,'8':2},\n",
    "    '3':{'2':7,'4':9,'5':14},\n",
    "    '4':{'3':9,'5':10,'7':2},\n",
    "    '5':{'2':4,'3':14,'4':10,'6':2},\n",
    "    '6':{'5':2,'7':1,'8':6},\n",
    "    '7':{'0':8,'1':11,'6':1,'8':7},\n",
    "    '8':{'2':2,'6':6,'7':7}\n",
    "}"
   ]
  },
  {
   "cell_type": "code",
   "execution_count": 29,
   "metadata": {},
   "outputs": [
    {
     "ename": "KeyError",
     "evalue": "'A'",
     "output_type": "error",
     "traceback": [
      "\u001b[1;31m---------------------------------------------------------------------------\u001b[0m",
      "\u001b[1;31mKeyError\u001b[0m                                  Traceback (most recent call last)",
      "\u001b[1;32m<ipython-input-29-6ceb2e2e6eed>\u001b[0m in \u001b[0;36m<module>\u001b[1;34m\u001b[0m\n\u001b[0;32m     42\u001b[0m \u001b[1;33m\u001b[0m\u001b[0m\n\u001b[0;32m     43\u001b[0m \u001b[1;33m\u001b[0m\u001b[0m\n\u001b[1;32m---> 44\u001b[1;33m \u001b[0mpast\u001b[0m\u001b[1;33m,\u001b[0m\u001b[0mdistance\u001b[0m \u001b[1;33m=\u001b[0m \u001b[0mdijkstra\u001b[0m\u001b[1;33m(\u001b[0m\u001b[0mgraph\u001b[0m\u001b[1;33m,\u001b[0m\u001b[1;34m'A'\u001b[0m\u001b[1;33m)\u001b[0m\u001b[1;33m\u001b[0m\u001b[1;33m\u001b[0m\u001b[0m\n\u001b[0m\u001b[0;32m     45\u001b[0m \u001b[0mprint\u001b[0m \u001b[1;33m(\u001b[0m\u001b[1;34m'Dijkstra'\u001b[0m\u001b[1;33m,\u001b[0m\u001b[0mdistance\u001b[0m\u001b[1;33m)\u001b[0m\u001b[1;33m\u001b[0m\u001b[1;33m\u001b[0m\u001b[0m\n",
      "\u001b[1;32m<ipython-input-28-0a05e97ef9f2>\u001b[0m in \u001b[0;36mdijkstra\u001b[1;34m(self, s)\u001b[0m\n\u001b[0;32m     36\u001b[0m         \u001b[0mdata\u001b[0m\u001b[1;33m.\u001b[0m\u001b[0madd\u001b[0m\u001b[1;33m(\u001b[0m\u001b[0mvertex\u001b[0m\u001b[1;33m)\u001b[0m\u001b[1;33m\u001b[0m\u001b[1;33m\u001b[0m\u001b[0m\n\u001b[0;32m     37\u001b[0m \u001b[1;33m\u001b[0m\u001b[0m\n\u001b[1;32m---> 38\u001b[1;33m         \u001b[0mnodes\u001b[0m \u001b[1;33m=\u001b[0m \u001b[0mgraph\u001b[0m\u001b[1;33m[\u001b[0m\u001b[0mvertex\u001b[0m\u001b[1;33m]\u001b[0m\u001b[1;33m.\u001b[0m\u001b[0mkeys\u001b[0m\u001b[1;33m(\u001b[0m\u001b[1;33m)\u001b[0m\u001b[1;33m\u001b[0m\u001b[1;33m\u001b[0m\u001b[0m\n\u001b[0m\u001b[0;32m     39\u001b[0m         \u001b[1;32mfor\u001b[0m \u001b[0mw\u001b[0m \u001b[1;32min\u001b[0m \u001b[0mnodes\u001b[0m\u001b[1;33m:\u001b[0m\u001b[1;33m\u001b[0m\u001b[1;33m\u001b[0m\u001b[0m\n\u001b[0;32m     40\u001b[0m             \u001b[1;32mif\u001b[0m \u001b[0mw\u001b[0m \u001b[1;32mnot\u001b[0m \u001b[1;32min\u001b[0m \u001b[0mdata\u001b[0m\u001b[1;33m:\u001b[0m\u001b[1;33m\u001b[0m\u001b[1;33m\u001b[0m\u001b[0m\n",
      "\u001b[1;31mKeyError\u001b[0m: 'A'"
     ]
    }
   ],
   "source": [
    "from collections import defaultdict \n",
    "import heapq\n",
    "import math\n",
    "\n",
    "class Graph():\n",
    "    \n",
    "    def __init__(self, vertices): \n",
    "        self.V = vertices \n",
    "        self.graph = [] \n",
    "        self.graph_matrix = [[0 for column in range(vertices)]  \n",
    "                    for row in range(vertices)] \n",
    "    \n",
    "    def find_distance(graph,s):\n",
    "        distance = {s:0}\n",
    "        for vertex in graph:\n",
    "            if vertex != s:\n",
    "                distance[vertex] = math.inf\n",
    "        return distance\n",
    "\n",
    "    def dijkstra(graph,s):\n",
    "        queue = []\n",
    "        heapq.heappush(queue,(0,s))\n",
    "        data = set()\n",
    "        past = {s:0}\n",
    "        distance = find_distance(graph,s)\n",
    "\n",
    "        while (len(queue)>0):\n",
    "            pair = heapq.heappop(queue)\n",
    "            dist = pair[0]\n",
    "            vertex = pair[1]\n",
    "            data.add(vertex)\n",
    "\n",
    "            nodes = graph[vertex].keys()\n",
    "            for w in nodes:\n",
    "                if w not in data:\n",
    "                    if dist + graph[vertex][w] < distance[w]:\n",
    "                        heapq.heappush(queue,(dist + graph[vertex][w],w))\n",
    "                        past[w] = vertex\n",
    "                        distance[w] = dist + graph[vertex][w]\n",
    "\n",
    "        return past,distance\n",
    "\n",
    "\n",
    "past,distance = dijkstra(graph,'A')\n",
    "print ('Dijkstra',distance)"
   ]
  },
  {
   "cell_type": "code",
   "execution_count": 8,
   "metadata": {},
   "outputs": [],
   "source": [
    "g=Graph(9)\n",
    "g.graph=[[0,4,0,0,0,0,0,8,0],\n",
    "         [4,0,8,0,0,0,0,11,0],\n",
    "         [0,8,0,7,0,4,0,0,2],\n",
    "         [0,0,7,0,9,14,0,0,0],\n",
    "         [0,0,0,9,0,10,0,0,0],\n",
    "         [0,0,4,14,10,0,2,0,0],\n",
    "         [0,0,0,0,0,2,0,1,6],\n",
    "         [8,11,0,0,0,0,1,0,7],\n",
    "         [0,0,2,0,0,0,6,7,0]\n",
    "        ];"
   ]
  },
  {
   "cell_type": "code",
   "execution_count": 25,
   "metadata": {},
   "outputs": [],
   "source": [
    "a = [1,0,8,7,6]"
   ]
  },
  {
   "cell_type": "code",
   "execution_count": 23,
   "metadata": {},
   "outputs": [
    {
     "data": {
      "text/plain": [
       "0"
      ]
     },
     "execution_count": 23,
     "metadata": {},
     "output_type": "execute_result"
    }
   ],
   "source": [
    "a[1]"
   ]
  },
  {
   "cell_type": "code",
   "execution_count": 30,
   "metadata": {},
   "outputs": [
    {
     "name": "stdout",
     "output_type": "stream",
     "text": [
      "0\n",
      "0\n",
      "0\n",
      "8\n",
      "7\n",
      "6\n"
     ]
    }
   ],
   "source": [
    "for i in range(len(a)):\n",
    "    if i == 0:\n",
    "        i+=1\n",
    "        print(    a[i])\n",
    "    if i != 0:\n",
    "        print(a[i])\n",
    "    "
   ]
  },
  {
   "cell_type": "code",
   "execution_count": null,
   "metadata": {},
   "outputs": [],
   "source": [
    "# past,distance = dijkstra(graph,'A')\n",
    "print ('Dijkstra',distance)"
   ]
  },
  {
   "cell_type": "code",
   "execution_count": 9,
   "metadata": {},
   "outputs": [
    {
     "ename": "AttributeError",
     "evalue": "'Graph' object has no attribute 'Dijkstra'",
     "output_type": "error",
     "traceback": [
      "\u001b[1;31m---------------------------------------------------------------------------\u001b[0m",
      "\u001b[1;31mAttributeError\u001b[0m                            Traceback (most recent call last)",
      "\u001b[1;32m<ipython-input-9-9570cf0d7369>\u001b[0m in \u001b[0;36m<module>\u001b[1;34m\u001b[0m\n\u001b[1;32m----> 1\u001b[1;33m \u001b[0mprint\u001b[0m\u001b[1;33m(\u001b[0m\u001b[1;34m'Dijkstra'\u001b[0m\u001b[1;33m,\u001b[0m\u001b[0mg\u001b[0m\u001b[1;33m.\u001b[0m\u001b[0mDijkstra\u001b[0m\u001b[1;33m(\u001b[0m\u001b[0mA\u001b[0m\u001b[1;33m)\u001b[0m\u001b[1;33m)\u001b[0m\u001b[1;33m\u001b[0m\u001b[1;33m\u001b[0m\u001b[0m\n\u001b[0m",
      "\u001b[1;31mAttributeError\u001b[0m: 'Graph' object has no attribute 'Dijkstra'"
     ]
    }
   ],
   "source": [
    "print('Dijkstra',g.Dijkstra(A))"
   ]
  },
  {
   "cell_type": "code",
   "execution_count": 6,
   "metadata": {},
   "outputs": [],
   "source": [
    "x = [\"a\",\"b\",\"c\"]\n",
    "y =[1,2,3]"
   ]
  },
  {
   "cell_type": "code",
   "execution_count": 7,
   "metadata": {},
   "outputs": [],
   "source": [
    "d = dict(zip(x,y))"
   ]
  },
  {
   "cell_type": "code",
   "execution_count": 8,
   "metadata": {},
   "outputs": [
    {
     "data": {
      "text/plain": [
       "{'a': 1, 'b': 2, 'c': 3}"
      ]
     },
     "execution_count": 8,
     "metadata": {},
     "output_type": "execute_result"
    }
   ],
   "source": [
    "d"
   ]
  },
  {
   "cell_type": "code",
   "execution_count": null,
   "metadata": {},
   "outputs": [],
   "source": []
  },
  {
   "cell_type": "code",
   "execution_count": 27,
   "metadata": {},
   "outputs": [],
   "source": [
    "graph = {\n",
    "    '0':{'1':4,'7':8},\n",
    "    '1':{'0':4,'2':8,'7':11},\n",
    "    '2':{'1':8,'3':7,'5':4,'8':2},\n",
    "    '3':{'2':7,'4':9,'5':14},\n",
    "    '4':{'3':9,'5':10,'7':2},\n",
    "    '5':{'2':4,'3':14,'4':10,'6':2},\n",
    "    '6':{'5':2,'7':1,'8':6},\n",
    "    '7':{'0':8,'1':11,'6':1,'8':7},\n",
    "    '8':{'2':2,'6':6,'7':7}\n",
    "}"
   ]
  },
  {
   "cell_type": "code",
   "execution_count": null,
   "metadata": {},
   "outputs": [],
   "source": [
    "g=Graph(9)\n",
    "g.graph=[[0,4,0,0,0,0,0,8,0],\n",
    "         [4,0,8,0,0,0,0,11,0],\n",
    "         [0,8,0,7,0,4,0,0,2],\n",
    "         [0,0,7,0,9,14,0,0,0],\n",
    "         [0,0,0,9,0,10,0,0,0],\n",
    "         [0,0,4,14,10,0,2,0,0],\n",
    "         [0,0,0,0,0,2,0,1,6],\n",
    "         [8,11,0,0,0,0,1,0,7],\n",
    "         [0,0,2,0,0,0,6,7,0]\n",
    "        ];"
   ]
  },
  {
   "cell_type": "code",
   "execution_count": null,
   "metadata": {},
   "outputs": [],
   "source": []
  },
  {
   "cell_type": "code",
   "execution_count": 22,
   "metadata": {},
   "outputs": [
    {
     "data": {
      "text/plain": [
       "{0: 8, 1: 11, 2: 2, 3: 14, 4: 10, 5: 2, 6: 6, 7: 7, 8: 7}"
      ]
     },
     "execution_count": 22,
     "metadata": {},
     "output_type": "execute_result"
    }
   ],
   "source": [
    "graph=[[0,4,0,0,0,0,0,8,0],\n",
    "         [4,0,8,0,0,0,0,11,0],\n",
    "         [0,8,0,7,0,4,0,0,2],\n",
    "         [0,0,7,0,9,14,0,0,0],\n",
    "         [0,0,0,9,0,10,0,0,0],\n",
    "         [0,0,4,14,10,0,2,0,0],\n",
    "         [0,0,0,0,0,2,0,1,6],\n",
    "         [8,11,0,0,0,0,1,0,7],\n",
    "         [0,0,2,0,0,0,6,7,0]\n",
    "        ]\n",
    "dic(graph)"
   ]
  },
  {
   "cell_type": "code",
   "execution_count": 21,
   "metadata": {},
   "outputs": [],
   "source": [
    "def dic(graph):\n",
    "    d = {}\n",
    "    dd = {}\n",
    "    for k in range(9):\n",
    "        d[k] = None\n",
    "    for i in range(9):\n",
    "        for j in range(9):\n",
    "            if graph[i][j] != 0:\n",
    "                dd[]\n",
    "    return d"
   ]
  },
  {
   "cell_type": "code",
   "execution_count": 28,
   "metadata": {},
   "outputs": [
    {
     "ename": "KeyError",
     "evalue": "0",
     "output_type": "error",
     "traceback": [
      "\u001b[1;31m---------------------------------------------------------------------------\u001b[0m",
      "\u001b[1;31mKeyError\u001b[0m                                  Traceback (most recent call last)",
      "\u001b[1;32m<ipython-input-28-0a05e97ef9f2>\u001b[0m in \u001b[0;36m<module>\u001b[1;34m\u001b[0m\n\u001b[0;32m     47\u001b[0m \u001b[1;33m\u001b[0m\u001b[0m\n\u001b[0;32m     48\u001b[0m \u001b[1;33m\u001b[0m\u001b[0m\n\u001b[1;32m---> 49\u001b[1;33m \u001b[0mpast\u001b[0m\u001b[1;33m,\u001b[0m\u001b[0mdistance\u001b[0m \u001b[1;33m=\u001b[0m \u001b[0mdijkstra\u001b[0m\u001b[1;33m(\u001b[0m\u001b[0mgraph\u001b[0m\u001b[1;33m,\u001b[0m\u001b[1;36m0\u001b[0m\u001b[1;33m)\u001b[0m\u001b[1;33m\u001b[0m\u001b[1;33m\u001b[0m\u001b[0m\n\u001b[0m\u001b[0;32m     50\u001b[0m \u001b[0mprint\u001b[0m \u001b[1;33m(\u001b[0m\u001b[1;34m'Dijkstra'\u001b[0m\u001b[1;33m,\u001b[0m\u001b[0mdistance\u001b[0m\u001b[1;33m)\u001b[0m\u001b[1;33m\u001b[0m\u001b[1;33m\u001b[0m\u001b[0m\n",
      "\u001b[1;32m<ipython-input-28-0a05e97ef9f2>\u001b[0m in \u001b[0;36mdijkstra\u001b[1;34m(self, s)\u001b[0m\n\u001b[0;32m     36\u001b[0m         \u001b[0mdata\u001b[0m\u001b[1;33m.\u001b[0m\u001b[0madd\u001b[0m\u001b[1;33m(\u001b[0m\u001b[0mvertex\u001b[0m\u001b[1;33m)\u001b[0m\u001b[1;33m\u001b[0m\u001b[1;33m\u001b[0m\u001b[0m\n\u001b[0;32m     37\u001b[0m \u001b[1;33m\u001b[0m\u001b[0m\n\u001b[1;32m---> 38\u001b[1;33m         \u001b[0mnodes\u001b[0m \u001b[1;33m=\u001b[0m \u001b[0mgraph\u001b[0m\u001b[1;33m[\u001b[0m\u001b[0mvertex\u001b[0m\u001b[1;33m]\u001b[0m\u001b[1;33m.\u001b[0m\u001b[0mkeys\u001b[0m\u001b[1;33m(\u001b[0m\u001b[1;33m)\u001b[0m\u001b[1;33m\u001b[0m\u001b[1;33m\u001b[0m\u001b[0m\n\u001b[0m\u001b[0;32m     39\u001b[0m         \u001b[1;32mfor\u001b[0m \u001b[0mw\u001b[0m \u001b[1;32min\u001b[0m \u001b[0mnodes\u001b[0m\u001b[1;33m:\u001b[0m\u001b[1;33m\u001b[0m\u001b[1;33m\u001b[0m\u001b[0m\n\u001b[0;32m     40\u001b[0m             \u001b[1;32mif\u001b[0m \u001b[0mw\u001b[0m \u001b[1;32mnot\u001b[0m \u001b[1;32min\u001b[0m \u001b[0mdata\u001b[0m\u001b[1;33m:\u001b[0m\u001b[1;33m\u001b[0m\u001b[1;33m\u001b[0m\u001b[0m\n",
      "\u001b[1;31mKeyError\u001b[0m: 0"
     ]
    }
   ],
   "source": [
    "import heapq\n",
    "import math\n",
    "\n",
    "\n",
    "\n",
    "def dic(self,graph):\n",
    "    graph = {}\n",
    "    for i in range(self.V):\n",
    "        graph[str(i)] = {}\n",
    "        for j in range(self.V):\n",
    "            if self.graph[i][j] != 0:\n",
    "                graph[str(i)][str(j)] = self.graph[i][j]\n",
    "    return graph\n",
    "    \n",
    "\n",
    "\n",
    "\n",
    "def find_distance(graph,s):\n",
    "    distance = {s:0}\n",
    "    for vertex in graph:\n",
    "        if vertex != s:\n",
    "            distance[vertex] = math.inf\n",
    "    return distance\n",
    "\n",
    "def dijkstra(self,s):\n",
    "    queue = []\n",
    "    heapq.heappush(queue,(0,s))\n",
    "    data = set()\n",
    "    past = {s:0}\n",
    "    distance = find_distance(graph,s)\n",
    "    \n",
    "    while (len(queue)>0):\n",
    "        pair = heapq.heappop(queue)\n",
    "        dist = pair[0]\n",
    "        vertex = pair[1]\n",
    "        data.add(vertex)\n",
    "        \n",
    "        nodes = graph[vertex].keys()\n",
    "        for w in nodes:\n",
    "            if w not in data:\n",
    "                if dist + graph[vertex][w] < distance[w]:\n",
    "                    heapq.heappush(queue,(dist + graph[vertex][w],w))\n",
    "                    past[w] = vertex\n",
    "                    distance[w] = dist + graph[vertex][w]\n",
    "\n",
    "    return past,distance\n",
    "\n",
    "\n",
    "past,distance = dijkstra(graph,0)\n",
    "print ('Dijkstra',distance)"
   ]
  },
  {
   "cell_type": "code",
   "execution_count": 9,
   "metadata": {},
   "outputs": [
    {
     "ename": "NameError",
     "evalue": "name 'g' is not defined",
     "output_type": "error",
     "traceback": [
      "\u001b[1;31m---------------------------------------------------------------------------\u001b[0m",
      "\u001b[1;31mNameError\u001b[0m                                 Traceback (most recent call last)",
      "\u001b[1;32m<ipython-input-9-a8026430d65f>\u001b[0m in \u001b[0;36m<module>\u001b[1;34m\u001b[0m\n\u001b[1;32m----> 1\u001b[1;33m \u001b[0mprint\u001b[0m\u001b[1;33m(\u001b[0m\u001b[1;34m'Dijkstra'\u001b[0m\u001b[1;33m,\u001b[0m\u001b[0mg\u001b[0m\u001b[1;33m.\u001b[0m\u001b[0mDijkstra\u001b[0m\u001b[1;33m(\u001b[0m\u001b[1;36m0\u001b[0m\u001b[1;33m)\u001b[0m\u001b[1;33m)\u001b[0m\u001b[1;33m\u001b[0m\u001b[1;33m\u001b[0m\u001b[0m\n\u001b[0m",
      "\u001b[1;31mNameError\u001b[0m: name 'g' is not defined"
     ]
    }
   ],
   "source": [
    "print('Dijkstra',g.Dijkstra(0))"
   ]
  },
  {
   "cell_type": "code",
   "execution_count": 36,
   "metadata": {},
   "outputs": [],
   "source": [
    "from collections import defaultdict \n",
    "import heapq\n",
    "import math\n",
    "\n",
    "\n",
    "#Class to represent a graph \n",
    "class Graph(): \n",
    "\n",
    "    def __init__(self, vertices): \n",
    "        self.V = vertices \n",
    "        self.graph = [] \n",
    "        self.graph_matrix = [[0 for column in range(vertices)]  \n",
    "                    for row in range(vertices)] \n",
    "        self.x = []\n",
    "    def addEdge(self,u,v,w): \n",
    "        self.graph.append([w,u,v])\n",
    "        \n",
    "        \n",
    "        \n",
    "    \n",
    "\n",
    "    def dic(self,graph):\n",
    "        \n",
    "        for i in range(self.V):\n",
    "            graph[str(i)] = {}\n",
    "            for j in range(self.V):\n",
    "                if self.graph[i][j] != 0:\n",
    "                    graph[str(i)][str(j)] = self.graph[i][j]\n",
    "        return graph\n",
    "    \n",
    "    def find_distance(self,graph,s):\n",
    "        Graph = self.dic(graph)\n",
    "        distance = {s:0}\n",
    "        for vertex in Graph:\n",
    "            if vertex != s:\n",
    "                distance[vertex] = math.inf\n",
    "        return distance\n",
    "\n",
    "    def Dijkstra(self,s):\n",
    "        Graph = self.dic({})\n",
    "        queue = []\n",
    "        heapq.heappush(queue,(0,s))\n",
    "        print(queue)\n",
    "        data = set()\n",
    "        past = {s:0}\n",
    "        distance = self.find_distance({},s)\n",
    "        while (len(queue)>0):\n",
    "            pair = heapq.heappop(queue)\n",
    "            dist = pair[0]\n",
    "            vertex = pair[1]\n",
    "            data.add(vertex)\n",
    "            nodes = Graph\n",
    "            for w in nodes:\n",
    "                if w not in data:\n",
    "                    if dist + Graph[vertex][w] < distance[w]:\n",
    "                        heapq.heappush(queue,(dist + Graph[vertex][w],w))\n",
    "                        past[w] = vertex\n",
    "                        distance[w] = dist + Graph[vertex][w]\n",
    "\n",
    "        return past,distance\n",
    "\n",
    "\n",
    "    #past,distance = Dijkstra(graph,0)\n",
    "    #print ('Dijkstra',distance)\n",
    "    \n",
    "    def Kruskal(self):\n",
    "        \"\"\"\n",
    "        :rtype: dict\n",
    "        \"\"\""
   ]
  },
  {
   "cell_type": "code",
   "execution_count": 37,
   "metadata": {},
   "outputs": [
    {
     "name": "stdout",
     "output_type": "stream",
     "text": [
      "[(0, '0')]\n"
     ]
    },
    {
     "ename": "KeyError",
     "evalue": "'2'",
     "output_type": "error",
     "traceback": [
      "\u001b[1;31m---------------------------------------------------------------------------\u001b[0m",
      "\u001b[1;31mKeyError\u001b[0m                                  Traceback (most recent call last)",
      "\u001b[1;32m<ipython-input-37-06df0d0c6db0>\u001b[0m in \u001b[0;36m<module>\u001b[1;34m\u001b[0m\n\u001b[0;32m     10\u001b[0m          \u001b[1;33m[\u001b[0m\u001b[1;36m0\u001b[0m\u001b[1;33m,\u001b[0m\u001b[1;36m0\u001b[0m\u001b[1;33m,\u001b[0m\u001b[1;36m2\u001b[0m\u001b[1;33m,\u001b[0m\u001b[1;36m0\u001b[0m\u001b[1;33m,\u001b[0m\u001b[1;36m0\u001b[0m\u001b[1;33m,\u001b[0m\u001b[1;36m0\u001b[0m\u001b[1;33m,\u001b[0m\u001b[1;36m6\u001b[0m\u001b[1;33m,\u001b[0m\u001b[1;36m7\u001b[0m\u001b[1;33m,\u001b[0m\u001b[1;36m0\u001b[0m\u001b[1;33m]\u001b[0m\u001b[1;33m\u001b[0m\u001b[1;33m\u001b[0m\u001b[0m\n\u001b[0;32m     11\u001b[0m         ]\n\u001b[1;32m---> 12\u001b[1;33m \u001b[0mg\u001b[0m\u001b[1;33m.\u001b[0m\u001b[0mDijkstra\u001b[0m\u001b[1;33m(\u001b[0m\u001b[1;34m'0'\u001b[0m\u001b[1;33m)\u001b[0m\u001b[1;33m\u001b[0m\u001b[1;33m\u001b[0m\u001b[0m\n\u001b[0m",
      "\u001b[1;32m<ipython-input-36-6373e051dd7c>\u001b[0m in \u001b[0;36mDijkstra\u001b[1;34m(self, s)\u001b[0m\n\u001b[0;32m     53\u001b[0m             \u001b[1;32mfor\u001b[0m \u001b[0mw\u001b[0m \u001b[1;32min\u001b[0m \u001b[0mnodes\u001b[0m\u001b[1;33m:\u001b[0m\u001b[1;33m\u001b[0m\u001b[1;33m\u001b[0m\u001b[0m\n\u001b[0;32m     54\u001b[0m                 \u001b[1;32mif\u001b[0m \u001b[0mw\u001b[0m \u001b[1;32mnot\u001b[0m \u001b[1;32min\u001b[0m \u001b[0mdata\u001b[0m\u001b[1;33m:\u001b[0m\u001b[1;33m\u001b[0m\u001b[1;33m\u001b[0m\u001b[0m\n\u001b[1;32m---> 55\u001b[1;33m                     \u001b[1;32mif\u001b[0m \u001b[0mdist\u001b[0m \u001b[1;33m+\u001b[0m \u001b[0mGraph\u001b[0m\u001b[1;33m[\u001b[0m\u001b[0mvertex\u001b[0m\u001b[1;33m]\u001b[0m\u001b[1;33m[\u001b[0m\u001b[0mw\u001b[0m\u001b[1;33m]\u001b[0m \u001b[1;33m<\u001b[0m \u001b[0mdistance\u001b[0m\u001b[1;33m[\u001b[0m\u001b[0mw\u001b[0m\u001b[1;33m]\u001b[0m\u001b[1;33m:\u001b[0m\u001b[1;33m\u001b[0m\u001b[1;33m\u001b[0m\u001b[0m\n\u001b[0m\u001b[0;32m     56\u001b[0m                         \u001b[0mheapq\u001b[0m\u001b[1;33m.\u001b[0m\u001b[0mheappush\u001b[0m\u001b[1;33m(\u001b[0m\u001b[0mqueue\u001b[0m\u001b[1;33m,\u001b[0m\u001b[1;33m(\u001b[0m\u001b[0mdist\u001b[0m \u001b[1;33m+\u001b[0m \u001b[0mGraph\u001b[0m\u001b[1;33m[\u001b[0m\u001b[0mvertex\u001b[0m\u001b[1;33m]\u001b[0m\u001b[1;33m[\u001b[0m\u001b[0mw\u001b[0m\u001b[1;33m]\u001b[0m\u001b[1;33m,\u001b[0m\u001b[0mw\u001b[0m\u001b[1;33m)\u001b[0m\u001b[1;33m)\u001b[0m\u001b[1;33m\u001b[0m\u001b[1;33m\u001b[0m\u001b[0m\n\u001b[0;32m     57\u001b[0m                         \u001b[0mpast\u001b[0m\u001b[1;33m[\u001b[0m\u001b[0mw\u001b[0m\u001b[1;33m]\u001b[0m \u001b[1;33m=\u001b[0m \u001b[0mvertex\u001b[0m\u001b[1;33m\u001b[0m\u001b[1;33m\u001b[0m\u001b[0m\n",
      "\u001b[1;31mKeyError\u001b[0m: '2'"
     ]
    }
   ],
   "source": [
    "g = Graph(9)\n",
    "g.graph=[[0,4,0,0,0,0,0,8,0],\n",
    "         [4,0,8,0,0,0,0,11,0],\n",
    "         [0,8,0,7,0,4,0,0,2],\n",
    "         [0,0,7,0,9,14,0,0,0],\n",
    "         [0,0,0,9,0,10,0,0,0],\n",
    "         [0,0,4,14,10,0,2,0,0],\n",
    "         [0,0,0,0,0,2,0,1,6],\n",
    "         [8,11,0,0,0,0,1,0,7],\n",
    "         [0,0,2,0,0,0,6,7,0]\n",
    "        ]\n",
    "g.Dijkstra('0')"
   ]
  },
  {
   "cell_type": "markdown",
   "metadata": {},
   "source": [
    "# 參考資料\n",
    "\n",
    "https://docs.google.com/presentation/d/e/2PACX-1vTgHO5AkHJS6iN6bnnBMMdHv6E4rabnrC0KwyTRfjad8Ab3IQjbnGvZuQOjDC9t7nKqeroiwcuasJrI/pub?start=false&loop=false&delayms=3000&slide=id.g7b9afdb0e7_0_15\n",
    "\n",
    "https://github.com/samuel871211/My-python-code/blob/master/HW6/Dijkstra_06170225.py\n",
    "\n",
    "https://zh.wikipedia.org/wiki/%E6%88%B4%E5%85%8B%E6%96%AF%E7%89%B9%E6%8B%89%E7%AE%97%E6%B3%95\n",
    "\n",
    "http://alrightchiu.github.io/SecondRound/single-source-shortest-pathdijkstras-algorithm.html\n",
    "\n",
    "http://nthucad.cs.nthu.edu.tw/~yyliu/personal/nou/04ds/dijkstra.html\n",
    "\n",
    "https://ithelp.ithome.com.tw/articles/10209593\n",
    "\n",
    "https://www.itread01.com/content/1550267823.html"
   ]
  },
  {
   "cell_type": "code",
   "execution_count": null,
   "metadata": {},
   "outputs": [],
   "source": []
  }
 ],
 "metadata": {
  "kernelspec": {
   "display_name": "Python 3",
   "language": "python",
   "name": "python3"
  },
  "language_info": {
   "codemirror_mode": {
    "name": "ipython",
    "version": 3
   },
   "file_extension": ".py",
   "mimetype": "text/x-python",
   "name": "python",
   "nbconvert_exporter": "python",
   "pygments_lexer": "ipython3",
   "version": "3.7.1"
  }
 },
 "nbformat": 4,
 "nbformat_minor": 2
}
