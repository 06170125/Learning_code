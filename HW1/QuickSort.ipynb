{
 "cells": [
  {
   "cell_type": "code",
   "execution_count": 9,
   "metadata": {},
   "outputs": [
    {
     "name": "stdout",
     "output_type": "stream",
     "text": [
      "[2, 9, 20, 37, 42, 58, 76, 81, 101]\n"
     ]
    }
   ],
   "source": [
    "x = [37,58,101,42,20,2,9,76,81]\n",
    "\n",
    "def quicksort(x, left, right): # 輸入的東西為x,left、right為兩邊\n",
    "    if left >= right :            # 如果左邊大於右邊，就要執行quicksort\n",
    "        return\n",
    "    \n",
    "    l = left                   #l是左邊(不設定後面會亂掉)\n",
    "    r = right                  #r是右邊\n",
    "    point = x[left]            # point是基準點\n",
    "\n",
    "    while l != r:                     #如果i不等於j\n",
    "        while x[r] > point and l < r:   # 如果r位置的數字大於基準，且右邊位置數字比左邊位置大\n",
    "            r -= 1                      #那j就換j往前一位比較\n",
    "        while x[l] <= point and l < r:  # 如果l位置的數字小於等於基準，且右邊位置數字比左邊位置大\n",
    "            l += 1                      #那l就換l往後一位比較\n",
    "        if l < r:                        #當左右代理人沒有相遇時，互換值\n",
    "            x[l], x[r] = x[r], x[l]      #左右兩邊交換位置() \n",
    "            \n",
    "    x[left] = x[l]            #左邊位置的數字等於最左邊的數字\n",
    "    x[l] = point              #左邊數字就等於基準點\n",
    "\n",
    "    quicksort(x, left, l-1)   # 處理左邊的數字的再跑一次quicksort\n",
    "    quicksort(x, l+1, right)  # 處理右邊的數字的再跑一次quicksort\n",
    "\n",
    "quicksort(x, 0, len(x)-1)\n",
    "print(x)"
   ]
  },
  {
   "cell_type": "code",
   "execution_count": 2,
   "metadata": {},
   "outputs": [
    {
     "name": "stdout",
     "output_type": "stream",
     "text": [
      "[2, 9, 20, 37, 42, 58, 76, 81, 101]\n"
     ]
    }
   ],
   "source": [
    "def quicksort(x):\n",
    "    left=[]   #定義left這個list\n",
    "    right=[]  #定義right這個list\n",
    "    middle=[] #定義middle這個list\n",
    "    \n",
    "    if len(x)<=1: #if條件句:如果此list長度小於等於1\n",
    "        return x  #直接回傳\n",
    "    else:  #其他\n",
    "        for i in x:  # for迴圈:i為x內一數\n",
    "            if i > x[0]:  #如果i大於x的第一個數字\n",
    "                right.append(i)  #就把數字加到right這個list後面\n",
    "            elif i < x[0]:  #如果i小於x的第一個數字\n",
    "                left.append(i)  #就把數字加到left這個list後面\n",
    "            else:  #其他\n",
    "                middle.append(i)  #加到middle這個list的後面\n",
    "    left = quicksort(left)  #把left這個list導入quicksort函數\n",
    "    right = quicksort(right)  #把right這個list導入quicksort函數\n",
    "    return left+middle+right  #回傳left、middle、right三個list\n",
    "    print (quicksort(x))      #印出導入quicksort函數的x\n",
    "\n",
    "x = [37,58,101,42,20,2,9,76,81]\n",
    "print (quicksort(x))"
   ]
  },
  {
   "cell_type": "code",
   "execution_count": null,
   "metadata": {},
   "outputs": [],
   "source": []
  }
 ],
 "metadata": {
  "kernelspec": {
   "display_name": "Python 3",
   "language": "python",
   "name": "python3"
  },
  "language_info": {
   "codemirror_mode": {
    "name": "ipython",
    "version": 3
   },
   "file_extension": ".py",
   "mimetype": "text/x-python",
   "name": "python",
   "nbconvert_exporter": "python",
   "pygments_lexer": "ipython3",
   "version": "3.7.1"
  }
 },
 "nbformat": 4,
 "nbformat_minor": 2
}
