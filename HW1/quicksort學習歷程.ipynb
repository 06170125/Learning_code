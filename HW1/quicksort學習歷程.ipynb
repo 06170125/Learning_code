{
 "cells": [
  {
   "cell_type": "code",
   "execution_count": 1,
   "metadata": {},
   "outputs": [
    {
     "ename": "NameError",
     "evalue": "name 'List' is not defined",
     "output_type": "error",
     "traceback": [
      "\u001b[1;31m---------------------------------------------------------------------------\u001b[0m",
      "\u001b[1;31mNameError\u001b[0m                                 Traceback (most recent call last)",
      "\u001b[1;32m<ipython-input-1-065b93b9d076>\u001b[0m in \u001b[0;36m<module>\u001b[1;34m\u001b[0m\n\u001b[1;32m----> 1\u001b[1;33m \u001b[1;32mclass\u001b[0m \u001b[0mSolution\u001b[0m\u001b[1;33m:\u001b[0m\u001b[1;33m\u001b[0m\u001b[1;33m\u001b[0m\u001b[0m\n\u001b[0m\u001b[0;32m      2\u001b[0m     \u001b[1;32mdef\u001b[0m \u001b[0mfindErrorNums\u001b[0m\u001b[1;33m(\u001b[0m\u001b[0mself\u001b[0m\u001b[1;33m,\u001b[0m \u001b[0mnums\u001b[0m\u001b[1;33m:\u001b[0m \u001b[0mList\u001b[0m\u001b[1;33m[\u001b[0m\u001b[0mint\u001b[0m\u001b[1;33m]\u001b[0m\u001b[1;33m)\u001b[0m \u001b[1;33m->\u001b[0m \u001b[0mList\u001b[0m\u001b[1;33m[\u001b[0m\u001b[0mint\u001b[0m\u001b[1;33m]\u001b[0m\u001b[1;33m:\u001b[0m\u001b[1;33m\u001b[0m\u001b[1;33m\u001b[0m\u001b[0m\n\u001b[0;32m      3\u001b[0m         \u001b[0mtemp\u001b[0m \u001b[1;33m=\u001b[0m \u001b[1;33m[\u001b[0m\u001b[1;36m0\u001b[0m \u001b[1;32mfor\u001b[0m \u001b[0mi\u001b[0m \u001b[1;32min\u001b[0m \u001b[0mrange\u001b[0m\u001b[1;33m(\u001b[0m\u001b[1;36m0\u001b[0m\u001b[1;33m,\u001b[0m\u001b[0mlen\u001b[0m\u001b[1;33m(\u001b[0m\u001b[0mnums\u001b[0m\u001b[1;33m)\u001b[0m\u001b[1;33m)\u001b[0m\u001b[1;33m]\u001b[0m\u001b[1;33m\u001b[0m\u001b[1;33m\u001b[0m\u001b[0m\n\u001b[0;32m      4\u001b[0m         \u001b[1;32mfor\u001b[0m \u001b[0mi\u001b[0m \u001b[1;32min\u001b[0m \u001b[0mrange\u001b[0m\u001b[1;33m(\u001b[0m\u001b[1;36m0\u001b[0m\u001b[1;33m,\u001b[0m \u001b[0mlen\u001b[0m\u001b[1;33m(\u001b[0m\u001b[0mnums\u001b[0m\u001b[1;33m)\u001b[0m\u001b[1;33m)\u001b[0m\u001b[1;33m:\u001b[0m\u001b[1;33m\u001b[0m\u001b[1;33m\u001b[0m\u001b[0m\n\u001b[0;32m      5\u001b[0m             \u001b[0mtemp\u001b[0m\u001b[1;33m[\u001b[0m\u001b[0mnums\u001b[0m\u001b[1;33m[\u001b[0m\u001b[0mi\u001b[0m\u001b[1;33m]\u001b[0m \u001b[1;33m-\u001b[0m \u001b[1;36m1\u001b[0m\u001b[1;33m]\u001b[0m \u001b[1;33m+=\u001b[0m\u001b[1;36m1\u001b[0m     \u001b[1;31m#temp[i]=nums中i+1出現的次數\u001b[0m\u001b[1;33m\u001b[0m\u001b[1;33m\u001b[0m\u001b[0m\n",
      "\u001b[1;32m<ipython-input-1-065b93b9d076>\u001b[0m in \u001b[0;36mSolution\u001b[1;34m()\u001b[0m\n\u001b[0;32m      1\u001b[0m \u001b[1;32mclass\u001b[0m \u001b[0mSolution\u001b[0m\u001b[1;33m:\u001b[0m\u001b[1;33m\u001b[0m\u001b[1;33m\u001b[0m\u001b[0m\n\u001b[1;32m----> 2\u001b[1;33m     \u001b[1;32mdef\u001b[0m \u001b[0mfindErrorNums\u001b[0m\u001b[1;33m(\u001b[0m\u001b[0mself\u001b[0m\u001b[1;33m,\u001b[0m \u001b[0mnums\u001b[0m\u001b[1;33m:\u001b[0m \u001b[0mList\u001b[0m\u001b[1;33m[\u001b[0m\u001b[0mint\u001b[0m\u001b[1;33m]\u001b[0m\u001b[1;33m)\u001b[0m \u001b[1;33m->\u001b[0m \u001b[0mList\u001b[0m\u001b[1;33m[\u001b[0m\u001b[0mint\u001b[0m\u001b[1;33m]\u001b[0m\u001b[1;33m:\u001b[0m\u001b[1;33m\u001b[0m\u001b[1;33m\u001b[0m\u001b[0m\n\u001b[0m\u001b[0;32m      3\u001b[0m         \u001b[0mtemp\u001b[0m \u001b[1;33m=\u001b[0m \u001b[1;33m[\u001b[0m\u001b[1;36m0\u001b[0m \u001b[1;32mfor\u001b[0m \u001b[0mi\u001b[0m \u001b[1;32min\u001b[0m \u001b[0mrange\u001b[0m\u001b[1;33m(\u001b[0m\u001b[1;36m0\u001b[0m\u001b[1;33m,\u001b[0m\u001b[0mlen\u001b[0m\u001b[1;33m(\u001b[0m\u001b[0mnums\u001b[0m\u001b[1;33m)\u001b[0m\u001b[1;33m)\u001b[0m\u001b[1;33m]\u001b[0m\u001b[1;33m\u001b[0m\u001b[1;33m\u001b[0m\u001b[0m\n\u001b[0;32m      4\u001b[0m         \u001b[1;32mfor\u001b[0m \u001b[0mi\u001b[0m \u001b[1;32min\u001b[0m \u001b[0mrange\u001b[0m\u001b[1;33m(\u001b[0m\u001b[1;36m0\u001b[0m\u001b[1;33m,\u001b[0m \u001b[0mlen\u001b[0m\u001b[1;33m(\u001b[0m\u001b[0mnums\u001b[0m\u001b[1;33m)\u001b[0m\u001b[1;33m)\u001b[0m\u001b[1;33m:\u001b[0m\u001b[1;33m\u001b[0m\u001b[1;33m\u001b[0m\u001b[0m\n\u001b[0;32m      5\u001b[0m             \u001b[0mtemp\u001b[0m\u001b[1;33m[\u001b[0m\u001b[0mnums\u001b[0m\u001b[1;33m[\u001b[0m\u001b[0mi\u001b[0m\u001b[1;33m]\u001b[0m \u001b[1;33m-\u001b[0m \u001b[1;36m1\u001b[0m\u001b[1;33m]\u001b[0m \u001b[1;33m+=\u001b[0m\u001b[1;36m1\u001b[0m     \u001b[1;31m#temp[i]=nums中i+1出現的次數\u001b[0m\u001b[1;33m\u001b[0m\u001b[1;33m\u001b[0m\u001b[0m\n",
      "\u001b[1;31mNameError\u001b[0m: name 'List' is not defined"
     ]
    }
   ],
   "source": [
    "class Solution:\n",
    "    def findErrorNums(self, nums: List[int]) -> List[int]:\n",
    "        temp = [0 for i in range(0,len(nums))]\n",
    "        for i in range(0, len(nums)):\n",
    "            temp[nums[i] - 1] +=1     #temp[i]=nums中i+1出現的次數\n",
    "        for i in range(0, len(nums)):\n",
    "            if(temp[i] == 2):\n",
    "                a = i+1\n",
    "            if(temp[i] == 0):\n",
    "                b = i+1\n",
    "        return [a, b]"
   ]
  },
  {
   "cell_type": "code",
   "execution_count": 10,
   "metadata": {},
   "outputs": [],
   "source": [
    "def quicksort(data, left, right): # 輸入資料，和從兩邊開始的位置\n",
    "    if left >= right :            # 如果左邊大於右邊，就跳出function\n",
    "        return\n",
    "\n",
    "    i = left                      # 左邊的代理人\n",
    "    j = right                     # 右邊的代理人\n",
    "    key = data[left]                 # 基準點\n",
    "\n",
    "    while i != j:                  \n",
    "        while data[j] > key and i < j:   # 從右邊開始找，找比基準點小的值\n",
    "            j -= 1\n",
    "        while data[i] <= key and i < j:  # 從左邊開始找，找比基準點大的值\n",
    "            i += 1\n",
    "        if i < j:                        # 當左右代理人沒有相遇時，互換值\n",
    "            data[i], data[j] = data[j], data[i]   # 將基準點歸換至代理人相遇點\n",
    "            \n",
    "    data[left] = data[i] \n",
    "    data[i] = key\n",
    "\n",
    "    quicksort(data, left, i-1)   # 繼續處理較小部分的子循環\n",
    "    quicksort(data, i+1, right)  # 繼續處理較大部分的子循環\n",
    "\n"
   ]
  },
  {
   "cell_type": "code",
   "execution_count": 1,
   "metadata": {},
   "outputs": [
    {
     "name": "stdout",
     "output_type": "stream",
     "text": [
      "[17, 20, 26, 31, 44, 54, 55, 77, 93]\n",
      "[0, 1, 5, 5, 8, 10, 22, 22, 65]\n"
     ]
    }
   ],
   "source": [
    "def QuickSort(alist):\n",
    "    left=[]    #左邊、中間、右邊三個空list\n",
    "    center=[]\n",
    "    right=[]\n",
    "    if len(alist)<=1: #如果alist裡只有一個或沒有元素就不用排序 ex:[1]\n",
    "        return alist\n",
    "    else:\n",
    "        key=alist[0] #拿第一個數字當基準 ex:[3,5,1] key=3\n",
    "        for i in alist:\n",
    "            if i>key:  #大於key放右邊 ex:left=[1],center=[3],right=[5] \n",
    "                right.append(i)\n",
    "            elif i<key: #小於key放左邊\n",
    "                left.append(i)\n",
    "            else: #等於key放中間\n",
    "                center.append(i)\n",
    "    left=QuickSort(left)  #左邊跟右邊list再重新排序一次\n",
    "    right=QuickSort(right)\n",
    "    return left+center+right #把左邊中間右邊加起來 ex:[1,3,5]\n",
    "\n",
    "alist=[54,26,93,17,77,31,44,55,20]\n",
    "blist=QuickSort(alist)\n",
    "print(blist)\n",
    "[17, 20, 26, 31, 44, 54, 55, 77, 93]\n",
    "\n",
    "alist=[5,1,10,0,5,8,22,65,22]\n",
    "blist=QuickSort(alist)\n",
    "print(blist)"
   ]
  },
  {
   "cell_type": "code",
   "execution_count": 9,
   "metadata": {},
   "outputs": [
    {
     "name": "stdout",
     "output_type": "stream",
     "text": [
      "[2, 9, 20, 37, 42, 58, 76, 81, 101]\n"
     ]
    }
   ],
   "source": [
    "x = [37,58,101,42,20,2,9,76,81]\n",
    "\n",
    "def quicksort(x, left, right): # 輸入的東西為x,left、right為兩邊\n",
    "    if left >= right :            # 如果左邊大於右邊，就要執行quicksort\n",
    "        return\n",
    "    \n",
    "    l = left                   #l是左邊(不設定後面會亂掉)\n",
    "    r = right                  #r是右邊\n",
    "    point = x[left]            # point是基準點\n",
    "\n",
    "    while l != r:                     #如果i不等於j\n",
    "        while x[r] > point and l < r:   # 如果r位置的數字大於基準，且右邊位置數字比左邊位置大\n",
    "            r -= 1                      #那j就換j往前一位比較\n",
    "        while x[l] <= point and l < r:  # 如果l位置的數字小於等於基準，且右邊位置數字比左邊位置大\n",
    "            l += 1                      #那l就換l往後一位比較\n",
    "        if l < r:                        #當左右代理人沒有相遇時，互換值\n",
    "            x[l], x[r] = x[r], x[l]      #左右兩邊交換位置() \n",
    "            \n",
    "    x[left] = x[l]            #左邊位置的數字等於最左邊的數字\n",
    "    x[l] = point              #左邊數字就等於基準點\n",
    "\n",
    "    quicksort(x, left, l-1)   # 處理左邊的數字的再跑一次quicksort\n",
    "    quicksort(x, l+1, right)  # 處理右邊的數字的再跑一次quicksort\n",
    "\n",
    "quicksort(x, 0, len(x)-1)\n",
    "print(x)"
   ]
  },
  {
   "cell_type": "code",
   "execution_count": 11,
   "metadata": {},
   "outputs": [
    {
     "ename": "NameError",
     "evalue": "name 'left' is not defined",
     "output_type": "error",
     "traceback": [
      "\u001b[1;31m---------------------------------------------------------------------------\u001b[0m",
      "\u001b[1;31mNameError\u001b[0m                                 Traceback (most recent call last)",
      "\u001b[1;32m<ipython-input-11-56a9e97b267a>\u001b[0m in \u001b[0;36m<module>\u001b[1;34m\u001b[0m\n\u001b[0;32m     19\u001b[0m     \u001b[1;32mreturn\u001b[0m \u001b[0mleft\u001b[0m\u001b[1;33m+\u001b[0m\u001b[0mmiddle\u001b[0m\u001b[1;33m+\u001b[0m\u001b[0mright\u001b[0m  \u001b[1;31m#回傳left、middle、right三個list\u001b[0m\u001b[1;33m\u001b[0m\u001b[1;33m\u001b[0m\u001b[0m\n\u001b[0;32m     20\u001b[0m     \u001b[0mprint\u001b[0m \u001b[1;33m(\u001b[0m\u001b[0mquicksort\u001b[0m\u001b[1;33m(\u001b[0m\u001b[0mx\u001b[0m\u001b[1;33m)\u001b[0m\u001b[1;33m)\u001b[0m      \u001b[1;31m#印出導入quicksort函數的xquicksort(data, 0, len(data)-1)\u001b[0m\u001b[1;33m\u001b[0m\u001b[1;33m\u001b[0m\u001b[0m\n\u001b[1;32m---> 21\u001b[1;33m \u001b[0mprint\u001b[0m\u001b[1;33m(\u001b[0m\u001b[0mleft\u001b[0m\u001b[1;33m+\u001b[0m\u001b[0mmiddle\u001b[0m\u001b[1;33m+\u001b[0m\u001b[0mright\u001b[0m\u001b[1;33m)\u001b[0m\u001b[1;33m\u001b[0m\u001b[1;33m\u001b[0m\u001b[0m\n\u001b[0m",
      "\u001b[1;31mNameError\u001b[0m: name 'left' is not defined"
     ]
    }
   ],
   "source": [
    "x = [37,58,101,42,20,2,9,76,81]\n",
    "def quicksort(x):\n",
    "    left=[]   #定義left這個list\n",
    "    right=[]  #定義right這個list\n",
    "    middle=[] #定義middle這個list\n",
    "    \n",
    "    if len(x)<=1: #if條件句:如果此list長度小於等於1\n",
    "        return x  #直接回傳\n",
    "    else:  #其他\n",
    "        for i in x:  # for迴圈:i為x內一數\n",
    "            if i > x[0]:  #如果i大於x的第一個數字\n",
    "                right.append(i)  #就把數字加到right這個list後面\n",
    "            elif i < x[0]:  #如果i小於x的第一個數字\n",
    "                left.append(i)  #就把數字加到left這個list後面\n",
    "            else:  #其他\n",
    "                middle.append(i)  #加到middle這個list的後面\n",
    "    left = quicksort(left)  #把left這個list導入quicksort函數\n",
    "    right = quicksort(right)  #把right這個list導入quicksort函數\n",
    "    return left+middle+right  #回傳left、middle、right三個list\n",
    "    print (quicksort(x))      #印出導入quicksort函數的xquicksort(data, 0, len(data)-1)\n",
    "print(left+middle+right)"
   ]
  },
  {
   "cell_type": "code",
   "execution_count": null,
   "metadata": {},
   "outputs": [],
   "source": []
  }
 ],
 "metadata": {
  "kernelspec": {
   "display_name": "Python 3",
   "language": "python",
   "name": "python3"
  },
  "language_info": {
   "codemirror_mode": {
    "name": "ipython",
    "version": 3
   },
   "file_extension": ".py",
   "mimetype": "text/x-python",
   "name": "python",
   "nbconvert_exporter": "python",
   "pygments_lexer": "ipython3",
   "version": "3.7.1"
  }
 },
 "nbformat": 4,
 "nbformat_minor": 2
}
