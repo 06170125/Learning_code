{
 "cells": [
  {
   "cell_type": "markdown",
   "metadata": {},
   "source": [
    "# BFS & DFS"
   ]
  },
  {
   "cell_type": "markdown",
   "metadata": {},
   "source": [
    "---"
   ]
  },
  {
   "cell_type": "markdown",
   "metadata": {},
   "source": [
    "# ◇BFS & DFS原理說明"
   ]
  },
  {
   "cell_type": "markdown",
   "metadata": {},
   "source": [
    "## 『BFS』"
   ]
  },
  {
   "cell_type": "markdown",
   "metadata": {},
   "source": [
    ">#### 從起點開始搜尋與自己相鄰相近的點\n",
    ">#### 每找到新的資料，以Queue的方式儲存並取出，取出之點不能重複\n",
    ">#### 依此類推，直至資料取出完畢\n",
    ">#### 因此資料存取的順序是先進先出，越先存入的資料，取出優先順序反而越前面，類似我們現實中所謂的排隊。"
   ]
  },
  {
   "cell_type": "markdown",
   "metadata": {},
   "source": [
    "## 『DFS 』"
   ]
  },
  {
   "cell_type": "markdown",
   "metadata": {},
   "source": [
    ">#### 將資料存進堆疊，從頂端依序放置底端，取出時只能從頂端拿\n",
    ">#### 故資料存取的順序是先進後出，也就是說，越先存入堆疊的資料，取出優先順序反而越後面。\n",
    ">#### 通常是以「遞迴(recursion) (註二)」的方式呈現。\n",
    ">#### 不斷的往深處進去，直到沒有子節點，再折返回來，\n",
    ">#### 換進去其他深處，對於深度低的狀態空間來說，不但相當簡潔，所占用的空間記憶體也較少，執行上的效率也跟著快\n",
    ">#### 但相對的，深度過深的話，對電腦的負荷也相當的大。"
   ]
  },
  {
   "cell_type": "markdown",
   "metadata": {},
   "source": [
    "# ◇BFS & DFS流程圖"
   ]
  },
  {
   "cell_type": "markdown",
   "metadata": {},
   "source": [
    "![BFS](https://github.com/06170125/Learning_code/blob/master/%E8%B3%87%E6%96%99%E7%B5%90%E6%A7%8B%E6%BC%94%E7%AE%97%E6%B3%95/S__8405023.jpg?raw=true)"
   ]
  },
  {
   "cell_type": "markdown",
   "metadata": {},
   "source": [
    "![DFS](https://github.com/06170125/Learning_code/blob/master/%E8%B3%87%E6%96%99%E7%B5%90%E6%A7%8B%E6%BC%94%E7%AE%97%E6%B3%95/S__8405021.jpg?raw=true)"
   ]
  },
  {
   "cell_type": "markdown",
   "metadata": {},
   "source": [
    "# ◇BFS & DFS比較"
   ]
  },
  {
   "cell_type": "markdown",
   "metadata": {},
   "source": [
    "![](https://github.com/06170125/Learning_code/blob/master/%E8%B3%87%E6%96%99%E7%B5%90%E6%A7%8B%E6%BC%94%E7%AE%97%E6%B3%95/1576854395289.jpg?raw=true)"
   ]
  },
  {
   "cell_type": "markdown",
   "metadata": {},
   "source": [
    "# ◇ Learning學習歷程"
   ]
  },
  {
   "cell_type": "markdown",
   "metadata": {},
   "source": [
    "一開始想到路徑就會不自覺的想到dict，所以一開始我便用了dict去寫了我的測資"
   ]
  },
  {
   "cell_type": "code",
   "execution_count": null,
   "metadata": {},
   "outputs": [],
   "source": [
    "graph = {\n",
    "    '0':['1','2'],\n",
    "    '1':['2'],\n",
    "    '2':['0','3'],\n",
    "    '3':['3']\n",
    "}\n",
    "g = graph"
   ]
  },
  {
   "cell_type": "markdown",
   "metadata": {},
   "source": [
    "然後做的時候我用我直到不能再直的腦袋擬了草稿"
   ]
  },
  {
   "cell_type": "code",
   "execution_count": null,
   "metadata": {},
   "outputs": [],
   "source": [
    "from collections import defaultdict\n",
    "\n",
    "def BFS(self,s):\n",
    "    queue = [] \n",
    "    queue.append(s)\n",
    "    \n",
    "    while (len(queue) > 0):\n",
    "        take = queue.pop(0)\n",
    "        near_point = self.graph[take]\n",
    "        for x in near_point:\n",
    "            if x not in queue: <--------等跑出error我才發現我的queue已經被pop掉了!!!\n",
    "                queue.append(x)\n",
    "                search.append(x)\n",
    "        print(take)"
   ]
  },
  {
   "cell_type": "markdown",
   "metadata": {},
   "source": [
    "於是我很聰明的....."
   ]
  },
  {
   "cell_type": "code",
   "execution_count": null,
   "metadata": {},
   "outputs": [],
   "source": [
    "def BFS(self,s):\n",
    "    queue = [] \n",
    "    queue.append(s)\n",
    "\n",
    "    search = []     <--------於是乎\n",
    "    search.append(s)<--------我加了search 他是不被pop版的queue喔!!!!!\n",
    "    \n",
    "    while (len(queue) > 0):\n",
    "        take = queue.pop(0)\n",
    "        near_point = self.graph[take]\n",
    "        for x in near_point:\n",
    "            if x not in search: <--------這樣就可以找到東西了\n",
    "                queue.append(x)\n",
    "                search.append(x)\n",
    "        print(take)"
   ]
  },
  {
   "cell_type": "markdown",
   "metadata": {},
   "source": [
    "結果發現..."
   ]
  },
  {
   "cell_type": "code",
   "execution_count": null,
   "metadata": {},
   "outputs": [],
   "source": [
    "print(g.BFS(2))"
   ]
  },
  {
   "cell_type": "markdown",
   "metadata": {},
   "source": [
    "2\n",
    "\n",
    "0\n",
    "\n",
    "3\n",
    "\n",
    "1"
   ]
  },
  {
   "cell_type": "markdown",
   "metadata": {},
   "source": [
    "不啊啊啊啊啊"
   ]
  },
  {
   "cell_type": "markdown",
   "metadata": {},
   "source": [
    "於是聰明的我又想到"
   ]
  },
  {
   "cell_type": "code",
   "execution_count": null,
   "metadata": {},
   "outputs": [],
   "source": [
    "def BFS(self,s):\n",
    "    queue = [] \n",
    "    queue.append(s)\n",
    "\n",
    "    search = []     \n",
    "    search.append(s)\n",
    "    \n",
    "    Take = [] <--------創一個list\n",
    "    \n",
    "    while (len(queue) > 0):\n",
    "        take = queue.pop(0)\n",
    "        near_point = self.graph[take]\n",
    "        for x in near_point:\n",
    "            if x not in search:\n",
    "                queue.append(x)\n",
    "                search.append(x)\n",
    "        Take.append(take) <--------把take加到Take list\n",
    "        print(Take) <--------再印出來"
   ]
  },
  {
   "cell_type": "code",
   "execution_count": null,
   "metadata": {},
   "outputs": [],
   "source": [
    "print(g.BFS(2))"
   ]
  },
  {
   "cell_type": "markdown",
   "metadata": {},
   "source": [
    "[2,0,3,1]"
   ]
  },
  {
   "cell_type": "markdown",
   "metadata": {},
   "source": [
    "打出bfs再寫dfs就簡單多了，因為他們兩個的差只是在拿出第一個跟最後一個而已"
   ]
  },
  {
   "cell_type": "code",
   "execution_count": null,
   "metadata": {},
   "outputs": [],
   "source": [
    "def DFS(self, s):\n",
    "        \n",
    "    stack = []\n",
    "    stack.append(s)\n",
    "\n",
    "    search = []\n",
    "    search.append(s)\n",
    "    \n",
    "    Take = []\n",
    "    \n",
    "    while (len(stack) > 0): \n",
    "        take = stack.pop(-1) <--------兩個唯一的差異\n",
    "        near_point = self.graph[take] \n",
    "        for y in near_point: \n",
    "            if y not in search:\n",
    "                stack.append(y) \n",
    "                search.append(y) \n",
    "        Take.append(take)\n",
    "    return(Take)"
   ]
  },
  {
   "cell_type": "code",
   "execution_count": null,
   "metadata": {},
   "outputs": [],
   "source": [
    "print(g.DFS(2))"
   ]
  },
  {
   "cell_type": "markdown",
   "metadata": {},
   "source": [
    "[2,3,0,1]"
   ]
  },
  {
   "cell_type": "markdown",
   "metadata": {},
   "source": [
    "這次作業其實不難，不知道是我終於懂寫程式的道理還是怎樣，寫起來開始可以寫起來開始可以懂她在幹嘛，邏輯也比較清楚，我覺得寫程式難的真的不是寫邏輯，是不知道該怎麼設一堆list還是其他，然後就會開始怨恨電腦的笨!!!"
   ]
  },
  {
   "cell_type": "markdown",
   "metadata": {},
   "source": [
    "# 參考資料"
   ]
  },
  {
   "cell_type": "markdown",
   "metadata": {},
   "source": [
    "https://www.programiz.com/dsa/graph-bfs\n",
    "\n",
    "https://www.twblogs.net/a/5c8ae7f8bd9eee35cd6aa6d5\n",
    "\n",
    "https://hackmd.io/@cube/SysqQALcN\n",
    "\n",
    "https://csie.ntnu.edu.tw/~u91029/Graph.html\n",
    "\n",
    "https://www.geeksforgeeks.org/breadth-first-search-or-bfs-for-a-graph/\n",
    "\n",
    "https://blog.csdn.net/g11d111/article/details/76169861"
   ]
  },
  {
   "cell_type": "code",
   "execution_count": null,
   "metadata": {},
   "outputs": [],
   "source": []
  }
 ],
 "metadata": {
  "kernelspec": {
   "display_name": "Python 3",
   "language": "python",
   "name": "python3"
  },
  "language_info": {
   "codemirror_mode": {
    "name": "ipython",
    "version": 3
   },
   "file_extension": ".py",
   "mimetype": "text/x-python",
   "name": "python",
   "nbconvert_exporter": "python",
   "pygments_lexer": "ipython3",
   "version": "3.7.1"
  }
 },
 "nbformat": 4,
 "nbformat_minor": 2
}
