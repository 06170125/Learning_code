{
 "cells": [
  {
   "cell_type": "markdown",
   "metadata": {},
   "source": [
    "# Hash Table"
   ]
  },
  {
   "cell_type": "markdown",
   "metadata": {},
   "source": [
    "*Hash Table原理*"
   ]
  },
  {
   "cell_type": "markdown",
   "metadata": {},
   "source": [
    "(1)\n",
    ">hash table的add、remove、contains大概都只要 O(1) 的時間複雜度\n",
    ">\n",
    ">作業中我們使用hash function先把各種個數字或是透過md5轉換的數值儲存在 Hash Table 裡面\n",
    ">\n",
    ">如此一來，如果要判斷這個數字是否已被存在 Hash Table 裡，只要讓這個數字跑過一次hash function，就可以直接知道數字對應到 Hash Table 中哪一格。\n",
    ">\n",
    ">所以 hash function 幫我們省去了sort的部分，因為我們不用像binary search tree一樣跟左或跟右比。"
   ]
  },
  {
   "cell_type": "markdown",
   "metadata": {},
   "source": [
    "(2)名詞解釋\n",
    ">key --- 輸入的數值或數值\n",
    "\n",
    "\n",
    ">MD5 --- 一個可用來加密的套件，可將輸入的非數字之事物轉成數字\n",
    "\n",
    "\n",
    ">hash table"
   ]
  },
  {
   "cell_type": "markdown",
   "metadata": {},
   "source": [
    "(3)優點:\n",
    ">資料搜尋的時候，不需要事先排序\n",
    "\n",
    ">在沒有collision及overflow情況下，資料搜尋的Time為 O(1)\n",
    "\n",
    ">與資料量 n 無關\n",
    "\n",
    ">保密性高\n",
    ">∵若不知Hashing function，則無法存取資料\n",
    "\n",
    ">可作資料壓縮之用\n"
   ]
  },
  {
   "cell_type": "markdown",
   "metadata": {},
   "source": [
    "*Hash Table結構*"
   ]
  },
  {
   "cell_type": "markdown",
   "metadata": {},
   "source": [
    "(1)\n",
    ">由一組Buckets組成，每個Buckets都由一個slot組成，每個slot可以儲存一筆資料"
   ]
  },
  {
   "cell_type": "markdown",
   "metadata": {},
   "source": [
    "*Hash Function原理*"
   ]
  },
  {
   "cell_type": "markdown",
   "metadata": {},
   "source": [
    "(1)\n",
    ">Hash Function中文為雜湊函式，是把我們輸入的數值轉換成一個固定長度但是卻不規則的雜湊值，(透過MD5)，所以不論是數字或字串都會經過這個函數變成一堆隨機排列的字母或數字\n",
    "\n",
    "\n"
   ]
  },
  {
   "cell_type": "markdown",
   "metadata": {},
   "source": [
    "(2)Hash Functio特性:\n",
    "\n",
    ">很難用看的就把MD5所形成的亂數推回去，所以才有很高的安全性\n",
    "\n",
    ">每一組字串都有自己的一組雜湊碼，有可能會有同樣的雜湊值，但機率很低"
   ]
  },
  {
   "cell_type": "markdown",
   "metadata": {},
   "source": [
    "# ADD"
   ]
  },
  {
   "cell_type": "code",
   "execution_count": null,
   "metadata": {},
   "outputs": [],
   "source": []
  },
  {
   "cell_type": "code",
   "execution_count": 4,
   "metadata": {},
   "outputs": [],
   "source": [
    "from Crypto.Hash import MD5  #用MD5加密"
   ]
  },
  {
   "cell_type": "code",
   "execution_count": 33,
   "metadata": {},
   "outputs": [
    {
     "ename": "NameError",
     "evalue": "name 'key' is not defined",
     "output_type": "error",
     "traceback": [
      "\u001b[1;31m---------------------------------------------------------------------------\u001b[0m",
      "\u001b[1;31mNameError\u001b[0m                                 Traceback (most recent call last)",
      "\u001b[1;32m<ipython-input-33-e7444f15f700>\u001b[0m in \u001b[0;36m<module>\u001b[1;34m\u001b[0m\n\u001b[0;32m      1\u001b[0m \u001b[0mh\u001b[0m\u001b[1;33m=\u001b[0m\u001b[0mMD5\u001b[0m\u001b[1;33m.\u001b[0m\u001b[0mnew\u001b[0m\u001b[1;33m(\u001b[0m\u001b[1;33m)\u001b[0m\u001b[1;33m\u001b[0m\u001b[1;33m\u001b[0m\u001b[0m\n\u001b[1;32m----> 2\u001b[1;33m \u001b[0mh\u001b[0m\u001b[1;33m.\u001b[0m\u001b[0mupdate\u001b[0m\u001b[1;33m(\u001b[0m\u001b[0mkey\u001b[0m\u001b[1;33m.\u001b[0m\u001b[0mencode\u001b[0m\u001b[1;33m(\u001b[0m\u001b[1;34m\"utf-8\"\u001b[0m\u001b[1;33m)\u001b[0m\u001b[1;33m)\u001b[0m\u001b[1;33m\u001b[0m\u001b[1;33m\u001b[0m\u001b[0m\n\u001b[0m\u001b[0;32m      3\u001b[0m \u001b[0mhashnum\u001b[0m \u001b[1;33m=\u001b[0m \u001b[0mh\u001b[0m\u001b[1;33m.\u001b[0m\u001b[0mhexdigest\u001b[0m\u001b[1;33m(\u001b[0m\u001b[1;33m)\u001b[0m\u001b[1;33m\u001b[0m\u001b[1;33m\u001b[0m\u001b[0m\n\u001b[0;32m      4\u001b[0m \u001b[0mhashnum\u001b[0m \u001b[1;33m=\u001b[0m \u001b[0mint\u001b[0m\u001b[1;33m(\u001b[0m\u001b[0mh\u001b[0m\u001b[1;33m.\u001b[0m\u001b[0mhexdigest\u001b[0m\u001b[1;33m(\u001b[0m\u001b[1;33m)\u001b[0m\u001b[1;33m,\u001b[0m \u001b[1;36m16\u001b[0m\u001b[1;33m)\u001b[0m\u001b[1;33m\u001b[0m\u001b[1;33m\u001b[0m\u001b[0m\n\u001b[0;32m      5\u001b[0m \u001b[0mind\u001b[0m \u001b[1;33m=\u001b[0m \u001b[0mhashnum\u001b[0m \u001b[1;33m%\u001b[0m \u001b[0mself\u001b[0m\u001b[1;33m.\u001b[0m\u001b[0mcapacity\u001b[0m\u001b[1;33m\u001b[0m\u001b[1;33m\u001b[0m\u001b[0m\n",
      "\u001b[1;31mNameError\u001b[0m: name 'key' is not defined"
     ]
    }
   ],
   "source": [
    "h=MD5.new()\n",
    "h.update(key.encode(\"utf-8\"))\n",
    "hashnum = h.hexdigest()        \n",
    "hashnum = int(h.hexdigest(), 16)\n",
    "ind = hashnum % self.capacity\n",
    "return ind"
   ]
  },
  {
   "cell_type": "code",
   "execution_count": 34,
   "metadata": {},
   "outputs": [],
   "source": [
    "def buckets(self,key):\n",
    "    h=MD5.new()\n",
    "    h.update(key.encode(\"utf-8\"))\n",
    "    hashnum = h.hexdigest()        \n",
    "    hashnum = int(h.hexdigest(), 16)\n",
    "    ind = hashnum % self.capacity\n",
    "    return ind"
   ]
  },
  {
   "cell_type": "code",
   "execution_count": 1,
   "metadata": {},
   "outputs": [
    {
     "name": "stdout",
     "output_type": "stream",
     "text": [
      "[None, None, None, None, None]\n"
     ]
    }
   ],
   "source": [
    "a = [None]*5\n",
    "print (a)"
   ]
  },
  {
   "cell_type": "markdown",
   "metadata": {},
   "source": [
    "# CONTAINS"
   ]
  },
  {
   "cell_type": "markdown",
   "metadata": {},
   "source": [
    "![CONTAIN](https://github.com/06170125/Learning_code/blob/master/%E8%B3%87%E6%96%99%E7%B5%90%E6%A7%8B%E6%BC%94%E7%AE%97%E6%B3%95/S__6242308.jpg?raw=true)"
   ]
  },
  {
   "cell_type": "markdown",
   "metadata": {},
   "source": [
    "Average: O(1)    \n",
    "\n",
    "Worst: O(n)"
   ]
  },
  {
   "cell_type": "code",
   "execution_count": 5,
   "metadata": {},
   "outputs": [],
   "source": [
    "#contains\n",
    "def contains(self, key):\n",
    "    ind = self.buckets(key)\n",
    "    cur = self.data[ind]\n",
    "    if cur == None:\n",
    "        return False\n",
    "    if cur.data == key:\n",
    "           return True\n",
    "    elif cur.next != None:\n",
    "        while (cur.next):\n",
    "            cur=cur.next\n",
    "            if cur.data==key:\n",
    "                return True\n",
    "            else:\n",
    "                False\n",
    "    else:\n",
    "        return False "
   ]
  },
  {
   "cell_type": "code",
   "execution_count": 42,
   "metadata": {},
   "outputs": [
    {
     "name": "stdout",
     "output_type": "stream",
     "text": [
      "True\n"
     ]
    }
   ],
   "source": [
    "rel=hashSet.contains('p')\n",
    "print(rel)"
   ]
  },
  {
   "cell_type": "code",
   "execution_count": 43,
   "metadata": {},
   "outputs": [
    {
     "name": "stdout",
     "output_type": "stream",
     "text": [
      "None\n"
     ]
    }
   ],
   "source": [
    "rel=hashSet.contains('M')\n",
    "print(rel)"
   ]
  },
  {
   "cell_type": "markdown",
   "metadata": {},
   "source": [
    "# ADD 新增"
   ]
  },
  {
   "cell_type": "markdown",
   "metadata": {},
   "source": [
    "![ADD](https://github.com/06170125/Learning_code/blob/master/%E8%B3%87%E6%96%99%E7%B5%90%E6%A7%8B%E6%BC%94%E7%AE%97%E6%B3%95/S__6242306.jpg?raw=true)"
   ]
  },
  {
   "cell_type": "markdown",
   "metadata": {},
   "source": [
    "Average: O(1)    \n",
    "Worst: O(n)"
   ]
  },
  {
   "cell_type": "code",
   "execution_count": 44,
   "metadata": {},
   "outputs": [],
   "source": [
    "#ADD\n",
    "def add(self, key):\n",
    "    if self.contains(key) != None:\n",
    "        return\n",
    "    new=ListNode(key)\n",
    "    ind=self.buckets(key) \n",
    "    if self.contains(key) == None:\n",
    "        while self.data[ind] != None:\n",
    "             num = self.data[ind]\n",
    "        if (num.next) != None:\n",
    "                num = num.next\n",
    "                num.next = new\n",
    "        while self.data[ind] == None:\n",
    "                self.data[ind] = new\n",
    "                return True\n",
    "        "
   ]
  },
  {
   "cell_type": "code",
   "execution_count": 46,
   "metadata": {},
   "outputs": [],
   "source": [
    "hashSet.add('g')"
   ]
  },
  {
   "cell_type": "code",
   "execution_count": 50,
   "metadata": {},
   "outputs": [
    {
     "name": "stdout",
     "output_type": "stream",
     "text": [
      "True\n"
     ]
    }
   ],
   "source": [
    "rel=hashSet.contains('g')\n",
    "print(rel)"
   ]
  },
  {
   "cell_type": "code",
   "execution_count": 51,
   "metadata": {},
   "outputs": [
    {
     "name": "stdout",
     "output_type": "stream",
     "text": [
      "False\n"
     ]
    }
   ],
   "source": [
    "rel=hashSet.contains('K')\n",
    "print(rel)"
   ]
  },
  {
   "cell_type": "markdown",
   "metadata": {},
   "source": [
    "# REMOVE 刪除"
   ]
  },
  {
   "cell_type": "markdown",
   "metadata": {},
   "source": [
    "![REMOVE](https://github.com/06170125/Learning_code/blob/master/%E8%B3%87%E6%96%99%E7%B5%90%E6%A7%8B%E6%BC%94%E7%AE%97%E6%B3%95/S__6242308.jpg?raw=true)"
   ]
  },
  {
   "cell_type": "markdown",
   "metadata": {},
   "source": [
    "Average: O(1)    \n",
    "Worst: O(n)"
   ]
  },
  {
   "cell_type": "code",
   "execution_count": null,
   "metadata": {},
   "outputs": [],
   "source": []
  },
  {
   "cell_type": "code",
   "execution_count": 6,
   "metadata": {},
   "outputs": [],
   "source": [
    "#REMOVE\n",
    "def remove(self, key):\n",
    "    index=self.buckets(key)\n",
    "    cur = self.data[index]\n",
    "    pre = None\n",
    "    while cur and key != cur.data:\n",
    "        pre=cur\n",
    "        cur=cur.next\n",
    "        \n",
    "    if not cur:\n",
    "        return\n",
    "    if not pre:\n",
    "        self.data[index]=self.data[index].next\n",
    "    else:\n",
    "        pre.next=cur.next"
   ]
  },
  {
   "cell_type": "code",
   "execution_count": 52,
   "metadata": {},
   "outputs": [],
   "source": [
    "hashSet.remove('g')"
   ]
  },
  {
   "cell_type": "code",
   "execution_count": 53,
   "metadata": {},
   "outputs": [
    {
     "name": "stdout",
     "output_type": "stream",
     "text": [
      "None\n"
     ]
    }
   ],
   "source": [
    "rel=hashSet.contains('g')\n",
    "print(rel)"
   ]
  },
  {
   "cell_type": "code",
   "execution_count": 54,
   "metadata": {},
   "outputs": [
    {
     "name": "stdout",
     "output_type": "stream",
     "text": [
      "False\n"
     ]
    }
   ],
   "source": [
    "rel=hashSet.contains('K')\n",
    "print(rel)"
   ]
  },
  {
   "cell_type": "code",
   "execution_count": 55,
   "metadata": {},
   "outputs": [
    {
     "name": "stdout",
     "output_type": "stream",
     "text": [
      "True\n",
      "True\n",
      "True\n",
      "False\n",
      "False\n",
      "False\n",
      "True\n",
      "True\n",
      "False\n",
      "False\n"
     ]
    }
   ],
   "source": [
    "hashSet=MyHashSet()\n",
    "hashSet.add('p')\n",
    "hashSet.add('g')\n",
    "hashSet.add('a')\n",
    "hashSet.add('b')\n",
    "hashSet.add('c')\n",
    "hashSet.add('d')\n",
    "hashSet.add('e')\n",
    "hashSet.add('f')\n",
    "hashSet.remove('c')\n",
    "hashSet.remove('d')\n",
    "hashSet.remove('s')\n",
    "hashSet.remove('l')\n",
    "rel=hashSet.contains('p')\n",
    "print(rel)\n",
    "rel=hashSet.contains('g')\n",
    "print(rel)\n",
    "rel=hashSet.contains('a')\n",
    "print(rel)\n",
    "rel=hashSet.contains('b')\n",
    "print(rel)\n",
    "rel=hashSet.contains('o')\n",
    "print(rel)\n",
    "rel=hashSet.contains('d')\n",
    "print(rel)\n",
    "rel=hashSet.contains('e')\n",
    "print(rel)\n",
    "rel=hashSet.contains('f')\n",
    "print(rel)\n",
    "rel=hashSet.contains('d')\n",
    "print(rel)\n",
    "rel=hashSet.contains('s')\n",
    "print(rel)"
   ]
  },
  {
   "cell_type": "code",
   "execution_count": 73,
   "metadata": {},
   "outputs": [],
   "source": [
    "class ListNode:\n",
    "    def __init__(self, val):\n",
    "        self.val = data\n",
    "        self.next = None\n",
    "\n",
    "class MyHashSet:\n",
    "    def __init__(self, capacity=5):\n",
    "        self.capacity = capacity\n",
    "        self.data = [None] * capacity\n",
    "\n",
    "    def buckets(self,key):\n",
    "        h=MD5.new()\n",
    "        h.update(key.encode(\"utf-8\"))\n",
    "        hashnum = h.hexdigest()\n",
    "        hashnum = int(h.hexdigest(), 16)\n",
    "        ind = hashnum % self.capacity\n",
    "        return ind\n",
    "    \n",
    "    def add(self, key):\n",
    "        if self.contains(key) != None:\n",
    "            return\n",
    "        new=ListNode(key)\n",
    "        ind=self.buckets(key) \n",
    "        if self.contains(key) == None:\n",
    "            while self.data[ind] != None:\n",
    "                num = self.data[ind]\n",
    "                if (num.next) != None:\n",
    "                    num = num.next\n",
    "                num.next = new\n",
    "            while self.data[ind] == None:\n",
    "                self.data[ind] = new\n",
    "                return True\n",
    "\n",
    "    def remove(self, key):\n",
    "        index=self.buckets(key)\n",
    "        cur = self.data[index]\n",
    "        pre = None\n",
    "        while cur and key != cur.data:\n",
    "            pre=cur\n",
    "            cur=cur.next\n",
    "        \n",
    "        if not cur:\n",
    "            return\n",
    "        if not pre:\n",
    "            self.data[index]=self.data[index].next\n",
    "        else:\n",
    "            pre.next=cur.next\n",
    "    def contains(self, key):\n",
    "        ind = self.buckets(key)\n",
    "        cur = self.data[ind]\n",
    "        if cur == None:\n",
    "            return False\n",
    "        if cur.data == key:\n",
    "            return True\n",
    "        elif cur.next != None:\n",
    "            while (cur.next):\n",
    "                cur=cur.next\n",
    "                if cur.data==key:\n",
    "                    return True\n",
    "                else:\n",
    "                    False\n",
    "        else:\n",
    "            return False "
   ]
  },
  {
   "cell_type": "code",
   "execution_count": 31,
   "metadata": {},
   "outputs": [],
   "source": [
    "from Crypto.Hash import MD5\n",
    "class ListNode:\n",
    "    def __init__(self, data):\n",
    "        self.data = data\n",
    "        self.next = None\n",
    "    \n",
    "\n",
    "class MyHashSet:\n",
    "\n",
    "    def __init__(self, capacity=5):\n",
    "        self.capacity = capacity\n",
    "        self.data = [None] * capacity\n",
    "        \n",
    "        \n",
    "    def md5(self,key):\n",
    "        h=MD5.new()\n",
    "        h.update(key.encode(\"utf-8\"))\n",
    "        hashnum=h.hexdigest()\n",
    "        hashnum=int(h.hexdigest(), 16)\n",
    "        ind=hashnum % self.capacity\n",
    "        return ind\n",
    "        \n",
    "    def add(self, key):\n",
    "        new = ListNode(key)\n",
    "        ind = self.md5(key)\n",
    "        if self.contains(key) == True:\n",
    "            return\n",
    "        if self.contains(key) != True:\n",
    "            if self.data[ind] == None: \n",
    "                self.data[ind] = new\n",
    "            else:\n",
    "                num = self.data[ind]\n",
    "                while (num.next): \n",
    "                    num = num.next\n",
    "                num.next = new\n",
    "                \n",
    "    def remove(self, key):\n",
    "        ind=self.md5(key)\n",
    "        num = self.data[ind]\n",
    "        none = None\n",
    "        if num and key != num.data:\n",
    "            none=num\n",
    "            num=num.next\n",
    "        \n",
    "        if num is None:\n",
    "            return\n",
    "        if none is None:\n",
    "            self.data[ind] = self.data[ind].next\n",
    "        else:\n",
    "            none.next = num.next\n",
    "            \n",
    "    def contains(self, key):\n",
    "        ind=self.md5(key)\n",
    "        num = self.data[ind]\n",
    "        if not num:\n",
    "            return False\n",
    "        if num.data == key:\n",
    "            return True\n",
    "        if num.next:\n",
    "            while (num.next) != None:\n",
    "                num=num.next\n",
    "                if num.data == key:\n",
    "                    return True\n",
    "                if num.data != key:\n",
    "                    False\n",
    "        else:\n",
    "            return False   "
   ]
  },
  {
   "cell_type": "code",
   "execution_count": 32,
   "metadata": {},
   "outputs": [
    {
     "name": "stdout",
     "output_type": "stream",
     "text": [
      "True\n",
      "True\n",
      "True\n",
      "True\n",
      "None\n",
      "True\n",
      "True\n",
      "True\n"
     ]
    }
   ],
   "source": [
    "hashSet=MyHashSet()\n",
    "hashSet.add('p')\n",
    "hashSet.add('g')\n",
    "hashSet.add('a')\n",
    "hashSet.add('b')\n",
    "hashSet.add('c')\n",
    "hashSet.add('d')\n",
    "hashSet.add('e')\n",
    "hashSet.add('f')\n",
    "rel=hashSet.contains('p')\n",
    "print(rel)\n",
    "rel=hashSet.contains('g')\n",
    "print(rel)\n",
    "rel=hashSet.contains('a')\n",
    "print(rel)\n",
    "rel=hashSet.contains('b')\n",
    "print(rel)\n",
    "rel=hashSet.contains('o')\n",
    "print(rel)\n",
    "rel=hashSet.contains('d')\n",
    "print(rel)\n",
    "rel=hashSet.contains('e')\n",
    "print(rel)\n",
    "rel=hashSet.contains('f')\n",
    "print(rel)\n"
   ]
  },
  {
   "cell_type": "code",
   "execution_count": 26,
   "metadata": {},
   "outputs": [
    {
     "name": "stdout",
     "output_type": "stream",
     "text": [
      "False\n"
     ]
    }
   ],
   "source": [
    "hashSet.remove('f')\n",
    "rel=hashSet.contains('f')\n",
    "print(rel)"
   ]
  },
  {
   "cell_type": "markdown",
   "metadata": {},
   "source": [
    "# 參考資料"
   ]
  },
  {
   "cell_type": "markdown",
   "metadata": {},
   "source": [
    "https://www.cs.wcupa.edu/rkline/ds/hash-sets.html\n",
    "\n",
    "\n",
    "https://blog.kdchang.cc/2016/09/23/javascript-data-structure-algorithm-dictionary-hash-table/\n",
    "\n",
    "\n",
    "https://docs.google.com/presentation/d/e/2PACX-1vT1HO9Nl475k2bR0l1x8_Tr4V5Wzx0BEqp9bpmHckvj8kTeJehhYVlOJUDVPhLQm6kjGCJ_sLMSBUw5/pub?start=false&loop=false&delayms=3000&slide=id.g790b8351ca_0_114\n",
    "\n",
    "\n",
    "https://www.itread01.com/content/1541332933.html\n",
    "    \n",
    "    \n",
    "https://medium.com/@fchern/%E8%A8%AD%E8%A8%88%E9%AB%98%E6%95%88%E8%83%BD%E7%9A%84hash-table-%E4%B8%80-303d9713abab\n",
    "    \n",
    "\n",
    "https://carlos-studio.com/2018/01/21/%E6%BC%94%E7%AE%97%E6%B3%95-%E9%9B%9C%E6%B9%8A%E8%A1%A8hash-table/\n",
    "\n",
    "\n",
    "https://blog.techbridge.cc/2017/01/21/simple-hash-table-intro/"
   ]
  },
  {
   "cell_type": "code",
   "execution_count": null,
   "metadata": {},
   "outputs": [],
   "source": []
  }
 ],
 "metadata": {
  "kernelspec": {
   "display_name": "Python 3",
   "language": "python",
   "name": "python3"
  },
  "language_info": {
   "codemirror_mode": {
    "name": "ipython",
    "version": 3
   },
   "file_extension": ".py",
   "mimetype": "text/x-python",
   "name": "python",
   "nbconvert_exporter": "python",
   "pygments_lexer": "ipython3",
   "version": "3.7.1"
  }
 },
 "nbformat": 4,
 "nbformat_minor": 2
}
